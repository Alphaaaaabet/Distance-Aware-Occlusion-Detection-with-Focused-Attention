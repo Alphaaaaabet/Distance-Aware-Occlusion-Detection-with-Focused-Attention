{
 "cells": [
  {
   "cell_type": "markdown",
   "id": "1e8a014d-f21d-43b5-bcb0-8cd9a9abfbd1",
   "metadata": {
    "pycharm": {
     "name": "#%% md\n"
    }
   },
   "source": [
    "Running notebook will generate annotations files for HOI Transformer using 2.5VRD annotation files. \n",
    "\n",
    "Resulting annotations will be written to files:\n",
    "\n",
    "annotation_train_distances.odgt\n",
    "\n",
    "annotation_train_occlusions.odgt\n",
    "\n",
    "annotation_valid_distances.odgt\n",
    "\n",
    "annotation_valid_occlusions.odgt\n",
    "\n",
    "annotation_test_distances.odgt\n",
    "\n",
    "annotation_test_occlusions.odgt"
   ]
  },
  {
   "cell_type": "code",
   "execution_count": 1,
   "id": "709158ef-a463-4d27-bf84-1d561a6bf2c7",
   "metadata": {
    "pycharm": {
     "name": "#%%\n"
    }
   },
   "outputs": [],
   "source": [
    "import pandas as pd\n",
    "import numpy as np\n",
    "from PIL import Image, ImageDraw, ImageFont\n",
    "import sys\n",
    "import json\n",
    "import time\n",
    "import os"
   ]
  },
  {
   "cell_type": "markdown",
   "id": "d753f9e7-2b97-4539-8adf-9e74fd4dd3ec",
   "metadata": {
    "pycharm": {
     "name": "#%% md\n"
    }
   },
   "source": [
    "# Load 2.5VRD Annotation Files"
   ]
  },
  {
   "cell_type": "code",
   "execution_count": 2,
   "id": "6ac74f68-b46b-489f-a176-0c1aa3bd4b48",
   "metadata": {
    "pycharm": {
     "name": "#%%\n"
    }
   },
   "outputs": [],
   "source": [
    "class_descriptions_boxable = pd.read_csv('class-descriptions-boxable.csv', header=None)\n",
    "\n",
    "within_image_objects_train = pd.read_csv('within_image_objects_train.csv')\n",
    "within_image_vrd_train = pd.read_csv('within_image_vrd_train.csv')\n",
    "\n",
    "within_image_objects_validation = pd.read_csv('within_image_objects_validation.csv')\n",
    "within_image_vrd_validation = pd.read_csv('within_image_vrd_validation.csv')\n",
    "\n",
    "within_image_objects_test = pd.read_csv('within_image_objects_test.csv')\n",
    "within_image_vrd_test = pd.read_csv('within_image_vrd_test.csv')"
   ]
  },
  {
   "cell_type": "code",
   "execution_count": 3,
   "id": "8e02827d-aae8-4236-bb54-c4d121b791b9",
   "metadata": {
    "pycharm": {
     "name": "#%%\n"
    }
   },
   "outputs": [
    {
     "data": {
      "text/plain": [
       "0    /m/01bjv\n",
       "1         Bus\n",
       "Name: 49, dtype: object"
      ]
     },
     "execution_count": 3,
     "metadata": {},
     "output_type": "execute_result"
    }
   ],
   "source": [
    "class_descriptions_boxable.iloc[50-1]"
   ]
  },
  {
   "cell_type": "markdown",
   "id": "aab0ac64-44af-4b73-a468-fe48a94b34df",
   "metadata": {
    "pycharm": {
     "name": "#%% md\n"
    }
   },
   "source": [
    "# Define Functions"
   ]
  },
  {
   "cell_type": "code",
   "execution_count": 4,
   "id": "e74da9a9-6205-4b99-b072-6f0d4633ff03",
   "metadata": {
    "pycharm": {
     "name": "#%%\n"
    }
   },
   "outputs": [],
   "source": [
    "def progressBar(i, max, text):\n",
    "    \"\"\"\n",
    "    Produce a progress bar during training.\n",
    "    :param i: index of current iteration/epoch.\n",
    "    :param max: max number of iterations/epochs.\n",
    "    :param text: Text to print on the right of the progress bar.\n",
    "    :return: None\n",
    "    \"\"\"\n",
    "    bar_size = 60\n",
    "    j = i / max\n",
    "    \n",
    "    sys.stdout.write('\\r')\n",
    "    sys.stdout.write(' ' * bar_size * 5)\n",
    "    sys.stdout.write('\\r')\n",
    "    sys.stdout.write(\n",
    "        f\"[{'=' * int(bar_size * j):{bar_size}s}] {int(100 * j)}%  {text}\")\n",
    "    sys.stdout.flush()\n",
    "    \n",
    "def entity_to_name(entity):\n",
    "    return class_descriptions_boxable[class_descriptions_boxable[0] == entity][1].item()\n",
    "\n",
    "\n",
    "def name_to_entity(name):\n",
    "    return class_descriptions_boxable[class_descriptions_boxable[1] == name][0].item()\n",
    "\n",
    "\n",
    "distance_id_to_name = {\n",
    "    -1: 'no majority',\n",
    "    0: 'not sure',\n",
    "    1: 'A is closer',\n",
    "    2: 'B is closer',\n",
    "    3: 'same distance'\n",
    "}\n",
    "\n",
    "distance_name_to_id = {\n",
    "    'no majority': -1,\n",
    "    'not sure': 0,\n",
    "    'A is closer': 1,\n",
    "    'B is closer': 2,\n",
    "    'same distance': 3\n",
    "}\n",
    "\n",
    "occlusion_id_to_name = {\n",
    "    -1: 'no majority',\n",
    "    0: 'no occlusion',\n",
    "    1: 'A occludes B',\n",
    "    2: 'B occludes A',\n",
    "    3: 'mutually occluded'\n",
    "}\n",
    "\n",
    "occlusion_name_to_id = {\n",
    "    'no majority': -1,\n",
    "    'no occlusion': 0,\n",
    "    'A occludes B': 1,\n",
    "    'B occludes A': 2,\n",
    "    'mutually occluded': 3\n",
    "}"
   ]
  },
  {
   "cell_type": "markdown",
   "id": "26d39842-7e67-4a8b-b4ff-6bd1c9f81db9",
   "metadata": {
    "pycharm": {
     "name": "#%% md\n"
    }
   },
   "source": [
    "# EDA"
   ]
  },
  {
   "cell_type": "markdown",
   "id": "1f632dc8-df20-4aea-ba5d-7238ca030730",
   "metadata": {
    "pycharm": {
     "name": "#%% md\n"
    }
   },
   "source": [
    "## Training Set"
   ]
  },
  {
   "cell_type": "code",
   "execution_count": 5,
   "id": "e8144d13-7501-46dc-9174-0649fea02796",
   "metadata": {
    "pycharm": {
     "name": "#%%\n"
    }
   },
   "outputs": [
    {
     "data": {
      "text/html": [
       "<div>\n",
       "<style scoped>\n",
       "    .dataframe tbody tr th:only-of-type {\n",
       "        vertical-align: middle;\n",
       "    }\n",
       "\n",
       "    .dataframe tbody tr th {\n",
       "        vertical-align: top;\n",
       "    }\n",
       "\n",
       "    .dataframe thead th {\n",
       "        text-align: right;\n",
       "    }\n",
       "</style>\n",
       "<table border=\"1\" class=\"dataframe\">\n",
       "  <thead>\n",
       "    <tr style=\"text-align: right;\">\n",
       "      <th></th>\n",
       "      <th>image_id</th>\n",
       "      <th>object_id</th>\n",
       "      <th>entity</th>\n",
       "      <th>xmin</th>\n",
       "      <th>xmax</th>\n",
       "      <th>ymin</th>\n",
       "      <th>ymax</th>\n",
       "    </tr>\n",
       "  </thead>\n",
       "  <tbody>\n",
       "    <tr>\n",
       "      <th>0</th>\n",
       "      <td>000002b66c9c498e</td>\n",
       "      <td>0</td>\n",
       "      <td>/m/01g317</td>\n",
       "      <td>0.151562</td>\n",
       "      <td>0.310937</td>\n",
       "      <td>0.198437</td>\n",
       "      <td>0.590625</td>\n",
       "    </tr>\n",
       "    <tr>\n",
       "      <th>1</th>\n",
       "      <td>000002b66c9c498e</td>\n",
       "      <td>1</td>\n",
       "      <td>/m/01g317</td>\n",
       "      <td>0.025000</td>\n",
       "      <td>0.276563</td>\n",
       "      <td>0.714063</td>\n",
       "      <td>0.948438</td>\n",
       "    </tr>\n",
       "    <tr>\n",
       "      <th>2</th>\n",
       "      <td>00003d63a4839019</td>\n",
       "      <td>0</td>\n",
       "      <td>/m/07j7r</td>\n",
       "      <td>0.681250</td>\n",
       "      <td>0.999375</td>\n",
       "      <td>0.000000</td>\n",
       "      <td>0.647280</td>\n",
       "    </tr>\n",
       "    <tr>\n",
       "      <th>3</th>\n",
       "      <td>00003d63a4839019</td>\n",
       "      <td>1</td>\n",
       "      <td>/m/07j7r</td>\n",
       "      <td>0.000000</td>\n",
       "      <td>0.699375</td>\n",
       "      <td>0.000000</td>\n",
       "      <td>0.668856</td>\n",
       "    </tr>\n",
       "    <tr>\n",
       "      <th>4</th>\n",
       "      <td>0000599864fd15b3</td>\n",
       "      <td>0</td>\n",
       "      <td>/m/03bt1vf</td>\n",
       "      <td>0.199375</td>\n",
       "      <td>0.350625</td>\n",
       "      <td>0.444967</td>\n",
       "      <td>0.999059</td>\n",
       "    </tr>\n",
       "    <tr>\n",
       "      <th>...</th>\n",
       "      <td>...</td>\n",
       "      <td>...</td>\n",
       "      <td>...</td>\n",
       "      <td>...</td>\n",
       "      <td>...</td>\n",
       "      <td>...</td>\n",
       "      <td>...</td>\n",
       "    </tr>\n",
       "    <tr>\n",
       "      <th>211383</th>\n",
       "      <td>fffe519ee3cddd18</td>\n",
       "      <td>1</td>\n",
       "      <td>/m/04yx4</td>\n",
       "      <td>0.223125</td>\n",
       "      <td>0.863125</td>\n",
       "      <td>0.231667</td>\n",
       "      <td>1.000000</td>\n",
       "    </tr>\n",
       "    <tr>\n",
       "      <th>211384</th>\n",
       "      <td>fffe53b2f679f98c</td>\n",
       "      <td>0</td>\n",
       "      <td>/m/0dzct</td>\n",
       "      <td>0.349578</td>\n",
       "      <td>0.664480</td>\n",
       "      <td>0.404375</td>\n",
       "      <td>0.710000</td>\n",
       "    </tr>\n",
       "    <tr>\n",
       "      <th>211385</th>\n",
       "      <td>fffe53b2f679f98c</td>\n",
       "      <td>1</td>\n",
       "      <td>/m/04yx4</td>\n",
       "      <td>0.025305</td>\n",
       "      <td>0.813496</td>\n",
       "      <td>0.292500</td>\n",
       "      <td>0.988125</td>\n",
       "    </tr>\n",
       "    <tr>\n",
       "      <th>211386</th>\n",
       "      <td>ffff1cb23ed29f2a</td>\n",
       "      <td>0</td>\n",
       "      <td>/m/09j2d</td>\n",
       "      <td>0.649375</td>\n",
       "      <td>0.853750</td>\n",
       "      <td>0.618333</td>\n",
       "      <td>0.999167</td>\n",
       "    </tr>\n",
       "    <tr>\n",
       "      <th>211387</th>\n",
       "      <td>ffff1cb23ed29f2a</td>\n",
       "      <td>1</td>\n",
       "      <td>/m/09j2d</td>\n",
       "      <td>0.203750</td>\n",
       "      <td>0.309375</td>\n",
       "      <td>0.695833</td>\n",
       "      <td>0.999167</td>\n",
       "    </tr>\n",
       "  </tbody>\n",
       "</table>\n",
       "<p>211388 rows × 7 columns</p>\n",
       "</div>"
      ],
      "text/plain": [
       "                image_id  object_id      entity      xmin      xmax      ymin  \\\n",
       "0       000002b66c9c498e          0   /m/01g317  0.151562  0.310937  0.198437   \n",
       "1       000002b66c9c498e          1   /m/01g317  0.025000  0.276563  0.714063   \n",
       "2       00003d63a4839019          0    /m/07j7r  0.681250  0.999375  0.000000   \n",
       "3       00003d63a4839019          1    /m/07j7r  0.000000  0.699375  0.000000   \n",
       "4       0000599864fd15b3          0  /m/03bt1vf  0.199375  0.350625  0.444967   \n",
       "...                  ...        ...         ...       ...       ...       ...   \n",
       "211383  fffe519ee3cddd18          1    /m/04yx4  0.223125  0.863125  0.231667   \n",
       "211384  fffe53b2f679f98c          0    /m/0dzct  0.349578  0.664480  0.404375   \n",
       "211385  fffe53b2f679f98c          1    /m/04yx4  0.025305  0.813496  0.292500   \n",
       "211386  ffff1cb23ed29f2a          0    /m/09j2d  0.649375  0.853750  0.618333   \n",
       "211387  ffff1cb23ed29f2a          1    /m/09j2d  0.203750  0.309375  0.695833   \n",
       "\n",
       "            ymax  \n",
       "0       0.590625  \n",
       "1       0.948438  \n",
       "2       0.647280  \n",
       "3       0.668856  \n",
       "4       0.999059  \n",
       "...          ...  \n",
       "211383  1.000000  \n",
       "211384  0.710000  \n",
       "211385  0.988125  \n",
       "211386  0.999167  \n",
       "211387  0.999167  \n",
       "\n",
       "[211388 rows x 7 columns]"
      ]
     },
     "execution_count": 5,
     "metadata": {},
     "output_type": "execute_result"
    }
   ],
   "source": [
    "within_image_objects_train"
   ]
  },
  {
   "cell_type": "code",
   "execution_count": 6,
   "id": "7ba59175-82a5-4806-ac03-9705c732cb52",
   "metadata": {
    "pycharm": {
     "name": "#%%\n"
    }
   },
   "outputs": [],
   "source": [
    "names = within_image_objects_train['entity'].unique()\n",
    "count = np.array([0] * len(names))\n",
    "for i in range(len(count)):\n",
    "    count[i] = (within_image_objects_train['entity'] == names[i]).sum()"
   ]
  },
  {
   "cell_type": "code",
   "execution_count": 7,
   "id": "848b4384-d171-4f49-aceb-7c3a7a107f5a",
   "metadata": {
    "pycharm": {
     "name": "#%%\n"
    }
   },
   "outputs": [
    {
     "data": {
      "text/plain": [
       "1"
      ]
     },
     "execution_count": 7,
     "metadata": {},
     "output_type": "execute_result"
    }
   ],
   "source": [
    "count.min()"
   ]
  },
  {
   "cell_type": "code",
   "execution_count": 8,
   "id": "309f5c71-e3aa-4e87-aa7e-3428a9feccf5",
   "metadata": {
    "pycharm": {
     "name": "#%%\n"
    }
   },
   "outputs": [
    {
     "data": {
      "text/plain": [
       "31455"
      ]
     },
     "execution_count": 8,
     "metadata": {},
     "output_type": "execute_result"
    }
   ],
   "source": [
    "count.max()"
   ]
  },
  {
   "cell_type": "code",
   "execution_count": 9,
   "id": "eafbacd7-a8fc-4981-a7f1-6e824b3b3c01",
   "metadata": {
    "pycharm": {
     "name": "#%%\n"
    }
   },
   "outputs": [
    {
     "data": {
      "text/plain": [
       "384.34181818181816"
      ]
     },
     "execution_count": 9,
     "metadata": {},
     "output_type": "execute_result"
    }
   ],
   "source": [
    "count.mean()"
   ]
  },
  {
   "cell_type": "code",
   "execution_count": 10,
   "id": "aa91d11d-429b-40bd-8d0a-e4205d605043",
   "metadata": {
    "pycharm": {
     "name": "#%%\n"
    }
   },
   "outputs": [],
   "source": [
    "count.sort()"
   ]
  },
  {
   "cell_type": "code",
   "execution_count": 11,
   "id": "071b500f-4b8e-46ea-b96e-d3d23c311191",
   "metadata": {
    "pycharm": {
     "name": "#%%\n"
    }
   },
   "outputs": [],
   "source": [
    "import matplotlib.pyplot as plt"
   ]
  },
  {
   "cell_type": "code",
   "execution_count": 12,
   "id": "857eb4bc-6a97-4a49-9d90-25cbbf14f437",
   "metadata": {
    "pycharm": {
     "name": "#%%\n"
    }
   },
   "outputs": [
    {
     "data": {
      "text/html": [
       "<div>\n",
       "<style scoped>\n",
       "    .dataframe tbody tr th:only-of-type {\n",
       "        vertical-align: middle;\n",
       "    }\n",
       "\n",
       "    .dataframe tbody tr th {\n",
       "        vertical-align: top;\n",
       "    }\n",
       "\n",
       "    .dataframe thead th {\n",
       "        text-align: right;\n",
       "    }\n",
       "</style>\n",
       "<table border=\"1\" class=\"dataframe\">\n",
       "  <thead>\n",
       "    <tr style=\"text-align: right;\">\n",
       "      <th></th>\n",
       "      <th>image_id_1</th>\n",
       "      <th>object_id_1</th>\n",
       "      <th>image_id_2</th>\n",
       "      <th>object_id_2</th>\n",
       "      <th>distance</th>\n",
       "      <th>occlusion</th>\n",
       "      <th>raw_distance</th>\n",
       "      <th>raw_occlusion</th>\n",
       "    </tr>\n",
       "  </thead>\n",
       "  <tbody>\n",
       "    <tr>\n",
       "      <th>0</th>\n",
       "      <td>000002b66c9c498e</td>\n",
       "      <td>0</td>\n",
       "      <td>000002b66c9c498e</td>\n",
       "      <td>1</td>\n",
       "      <td>3</td>\n",
       "      <td>0</td>\n",
       "      <td>3</td>\n",
       "      <td>0</td>\n",
       "    </tr>\n",
       "    <tr>\n",
       "      <th>1</th>\n",
       "      <td>00003d63a4839019</td>\n",
       "      <td>0</td>\n",
       "      <td>00003d63a4839019</td>\n",
       "      <td>1</td>\n",
       "      <td>3</td>\n",
       "      <td>3</td>\n",
       "      <td>3</td>\n",
       "      <td>3</td>\n",
       "    </tr>\n",
       "    <tr>\n",
       "      <th>2</th>\n",
       "      <td>0000599864fd15b3</td>\n",
       "      <td>0</td>\n",
       "      <td>0000599864fd15b3</td>\n",
       "      <td>1</td>\n",
       "      <td>1</td>\n",
       "      <td>0</td>\n",
       "      <td>1</td>\n",
       "      <td>0</td>\n",
       "    </tr>\n",
       "    <tr>\n",
       "      <th>3</th>\n",
       "      <td>000060e3121c7305</td>\n",
       "      <td>0</td>\n",
       "      <td>000060e3121c7305</td>\n",
       "      <td>1</td>\n",
       "      <td>0</td>\n",
       "      <td>0</td>\n",
       "      <td>0</td>\n",
       "      <td>0</td>\n",
       "    </tr>\n",
       "    <tr>\n",
       "      <th>4</th>\n",
       "      <td>000096726fd6c6c8</td>\n",
       "      <td>0</td>\n",
       "      <td>000096726fd6c6c8</td>\n",
       "      <td>1</td>\n",
       "      <td>2</td>\n",
       "      <td>2</td>\n",
       "      <td>2</td>\n",
       "      <td>2</td>\n",
       "    </tr>\n",
       "    <tr>\n",
       "      <th>...</th>\n",
       "      <td>...</td>\n",
       "      <td>...</td>\n",
       "      <td>...</td>\n",
       "      <td>...</td>\n",
       "      <td>...</td>\n",
       "      <td>...</td>\n",
       "      <td>...</td>\n",
       "      <td>...</td>\n",
       "    </tr>\n",
       "    <tr>\n",
       "      <th>105655</th>\n",
       "      <td>fffd4b6d215e5850</td>\n",
       "      <td>0</td>\n",
       "      <td>fffd4b6d215e5850</td>\n",
       "      <td>1</td>\n",
       "      <td>1</td>\n",
       "      <td>0</td>\n",
       "      <td>1</td>\n",
       "      <td>0</td>\n",
       "    </tr>\n",
       "    <tr>\n",
       "      <th>105656</th>\n",
       "      <td>fffe28b31f2a70d4</td>\n",
       "      <td>0</td>\n",
       "      <td>fffe28b31f2a70d4</td>\n",
       "      <td>1</td>\n",
       "      <td>0</td>\n",
       "      <td>0</td>\n",
       "      <td>0</td>\n",
       "      <td>0</td>\n",
       "    </tr>\n",
       "    <tr>\n",
       "      <th>105657</th>\n",
       "      <td>fffe519ee3cddd18</td>\n",
       "      <td>0</td>\n",
       "      <td>fffe519ee3cddd18</td>\n",
       "      <td>1</td>\n",
       "      <td>0</td>\n",
       "      <td>0</td>\n",
       "      <td>0</td>\n",
       "      <td>0</td>\n",
       "    </tr>\n",
       "    <tr>\n",
       "      <th>105658</th>\n",
       "      <td>fffe53b2f679f98c</td>\n",
       "      <td>0</td>\n",
       "      <td>fffe53b2f679f98c</td>\n",
       "      <td>1</td>\n",
       "      <td>0</td>\n",
       "      <td>0</td>\n",
       "      <td>0,0,0</td>\n",
       "      <td>0,0,0</td>\n",
       "    </tr>\n",
       "    <tr>\n",
       "      <th>105659</th>\n",
       "      <td>ffff1cb23ed29f2a</td>\n",
       "      <td>0</td>\n",
       "      <td>ffff1cb23ed29f2a</td>\n",
       "      <td>1</td>\n",
       "      <td>1</td>\n",
       "      <td>0</td>\n",
       "      <td>1</td>\n",
       "      <td>0</td>\n",
       "    </tr>\n",
       "  </tbody>\n",
       "</table>\n",
       "<p>105660 rows × 8 columns</p>\n",
       "</div>"
      ],
      "text/plain": [
       "              image_id_1  object_id_1        image_id_2  object_id_2  \\\n",
       "0       000002b66c9c498e            0  000002b66c9c498e            1   \n",
       "1       00003d63a4839019            0  00003d63a4839019            1   \n",
       "2       0000599864fd15b3            0  0000599864fd15b3            1   \n",
       "3       000060e3121c7305            0  000060e3121c7305            1   \n",
       "4       000096726fd6c6c8            0  000096726fd6c6c8            1   \n",
       "...                  ...          ...               ...          ...   \n",
       "105655  fffd4b6d215e5850            0  fffd4b6d215e5850            1   \n",
       "105656  fffe28b31f2a70d4            0  fffe28b31f2a70d4            1   \n",
       "105657  fffe519ee3cddd18            0  fffe519ee3cddd18            1   \n",
       "105658  fffe53b2f679f98c            0  fffe53b2f679f98c            1   \n",
       "105659  ffff1cb23ed29f2a            0  ffff1cb23ed29f2a            1   \n",
       "\n",
       "        distance  occlusion raw_distance raw_occlusion  \n",
       "0              3          0            3             0  \n",
       "1              3          3            3             3  \n",
       "2              1          0            1             0  \n",
       "3              0          0            0             0  \n",
       "4              2          2            2             2  \n",
       "...          ...        ...          ...           ...  \n",
       "105655         1          0            1             0  \n",
       "105656         0          0            0             0  \n",
       "105657         0          0            0             0  \n",
       "105658         0          0        0,0,0         0,0,0  \n",
       "105659         1          0            1             0  \n",
       "\n",
       "[105660 rows x 8 columns]"
      ]
     },
     "execution_count": 12,
     "metadata": {},
     "output_type": "execute_result"
    }
   ],
   "source": [
    "within_image_vrd_train"
   ]
  },
  {
   "cell_type": "markdown",
   "id": "e37afcec-d7f2-435a-9e95-14e6ed992e4c",
   "metadata": {
    "pycharm": {
     "name": "#%% md\n"
    }
   },
   "source": [
    "### Investigate the number of unique images"
   ]
  },
  {
   "cell_type": "code",
   "execution_count": 13,
   "id": "1a86eb47-467a-4f50-928e-de57e3aea6fe",
   "metadata": {
    "pycharm": {
     "name": "#%%\n"
    }
   },
   "outputs": [
    {
     "name": "stdout",
     "output_type": "stream",
     "text": [
      "number of  unique images in within_image_objects_train:     105694\n",
      "number of  unique images in within_image_vrd_train:         105660\n",
      "number of  unique images after combining the above two:     105694\n"
     ]
    }
   ],
   "source": [
    "print('number of  unique images in within_image_objects_train:    ', within_image_objects_train['image_id'].unique().shape[0])\n",
    "print('number of  unique images in within_image_vrd_train:        ', within_image_vrd_train['image_id_1'].unique().shape[0])\n",
    "print('number of  unique images after combining the above two:    ', pd.concat([within_image_objects_train['image_id'], within_image_vrd_train['image_id_1']]).unique().shape[0])"
   ]
  },
  {
   "cell_type": "markdown",
   "id": "2a785489-b634-42dd-8fde-ca54afa25f65",
   "metadata": {
    "pycharm": {
     "name": "#%% md\n"
    }
   },
   "source": [
    "Since the number of unique images after combining two datasets is the same as the number of images in the within_image_objects_train, within_image_objects_train contains all the images names.\n",
    "\n",
    "In other words, there are some images that have annotations for objects but no annotation for visual relationships.\n",
    "\n",
    "We do not want to trian on images which have annotations for objects but no annotation for visual relationships. \n",
    "\n",
    "Therefore, we use image names and visual relationships from the vrd annotations, and find their object bounding boxes from the object annotations. "
   ]
  },
  {
   "cell_type": "code",
   "execution_count": 14,
   "id": "e6b79ac2-3016-415f-9e84-43f378d5ef5b",
   "metadata": {
    "pycharm": {
     "name": "#%%\n"
    }
   },
   "outputs": [],
   "source": [
    "unique_image_names_train = pd.concat([within_image_objects_train['image_id'], within_image_vrd_train['image_id_1']]).unique()"
   ]
  },
  {
   "cell_type": "code",
   "execution_count": 15,
   "id": "7dd938de-d371-4fb0-8371-c51962f1fccd",
   "metadata": {
    "pycharm": {
     "name": "#%%\n"
    }
   },
   "outputs": [],
   "source": [
    "unique_image_names_train = unique_image_names_train.astype(str)"
   ]
  },
  {
   "cell_type": "code",
   "execution_count": 16,
   "id": "107f872e-97f4-421b-9baf-50dfd58bdb92",
   "metadata": {
    "pycharm": {
     "name": "#%%\n"
    }
   },
   "outputs": [],
   "source": [
    "unique_image_names_train = pd.DataFrame(unique_image_names_train)"
   ]
  },
  {
   "cell_type": "code",
   "execution_count": 17,
   "id": "59f3ea41-687e-428f-adee-f1f9744fb4b3",
   "metadata": {
    "pycharm": {
     "name": "#%%\n"
    }
   },
   "outputs": [
    {
     "data": {
      "text/html": [
       "<div>\n",
       "<style scoped>\n",
       "    .dataframe tbody tr th:only-of-type {\n",
       "        vertical-align: middle;\n",
       "    }\n",
       "\n",
       "    .dataframe tbody tr th {\n",
       "        vertical-align: top;\n",
       "    }\n",
       "\n",
       "    .dataframe thead th {\n",
       "        text-align: right;\n",
       "    }\n",
       "</style>\n",
       "<table border=\"1\" class=\"dataframe\">\n",
       "  <thead>\n",
       "    <tr style=\"text-align: right;\">\n",
       "      <th></th>\n",
       "      <th>0</th>\n",
       "    </tr>\n",
       "  </thead>\n",
       "  <tbody>\n",
       "    <tr>\n",
       "      <th>0</th>\n",
       "      <td>000002b66c9c498e</td>\n",
       "    </tr>\n",
       "    <tr>\n",
       "      <th>1</th>\n",
       "      <td>00003d63a4839019</td>\n",
       "    </tr>\n",
       "    <tr>\n",
       "      <th>2</th>\n",
       "      <td>0000599864fd15b3</td>\n",
       "    </tr>\n",
       "    <tr>\n",
       "      <th>3</th>\n",
       "      <td>000060e3121c7305</td>\n",
       "    </tr>\n",
       "    <tr>\n",
       "      <th>4</th>\n",
       "      <td>000096726fd6c6c8</td>\n",
       "    </tr>\n",
       "    <tr>\n",
       "      <th>...</th>\n",
       "      <td>...</td>\n",
       "    </tr>\n",
       "    <tr>\n",
       "      <th>105689</th>\n",
       "      <td>fffd4b6d215e5850</td>\n",
       "    </tr>\n",
       "    <tr>\n",
       "      <th>105690</th>\n",
       "      <td>fffe28b31f2a70d4</td>\n",
       "    </tr>\n",
       "    <tr>\n",
       "      <th>105691</th>\n",
       "      <td>fffe519ee3cddd18</td>\n",
       "    </tr>\n",
       "    <tr>\n",
       "      <th>105692</th>\n",
       "      <td>fffe53b2f679f98c</td>\n",
       "    </tr>\n",
       "    <tr>\n",
       "      <th>105693</th>\n",
       "      <td>ffff1cb23ed29f2a</td>\n",
       "    </tr>\n",
       "  </tbody>\n",
       "</table>\n",
       "<p>105694 rows × 1 columns</p>\n",
       "</div>"
      ],
      "text/plain": [
       "                       0\n",
       "0       000002b66c9c498e\n",
       "1       00003d63a4839019\n",
       "2       0000599864fd15b3\n",
       "3       000060e3121c7305\n",
       "4       000096726fd6c6c8\n",
       "...                  ...\n",
       "105689  fffd4b6d215e5850\n",
       "105690  fffe28b31f2a70d4\n",
       "105691  fffe519ee3cddd18\n",
       "105692  fffe53b2f679f98c\n",
       "105693  ffff1cb23ed29f2a\n",
       "\n",
       "[105694 rows x 1 columns]"
      ]
     },
     "execution_count": 17,
     "metadata": {},
     "output_type": "execute_result"
    }
   ],
   "source": [
    "unique_image_names_train"
   ]
  },
  {
   "cell_type": "code",
   "execution_count": 18,
   "id": "0a9e5435-cbb9-4848-86fe-dff381353137",
   "metadata": {
    "pycharm": {
     "name": "#%%\n"
    }
   },
   "outputs": [],
   "source": [
    "unique_image_names_train.to_csv('unique_image_names_train.csv', index=False)"
   ]
  },
  {
   "cell_type": "code",
   "execution_count": 19,
   "id": "392fe026-8707-42c5-8eee-58861b02e9a7",
   "metadata": {
    "pycharm": {
     "name": "#%%\n"
    }
   },
   "outputs": [
    {
     "data": {
      "text/plain": [
       "0    1386327595826\n",
       "Name: 16, dtype: object"
      ]
     },
     "execution_count": 19,
     "metadata": {},
     "output_type": "execute_result"
    }
   ],
   "source": [
    "unique_image_names_train.iloc[16]"
   ]
  },
  {
   "cell_type": "code",
   "execution_count": 20,
   "id": "92419e3d-2f0a-4b05-bc94-f8a35434690b",
   "metadata": {
    "pycharm": {
     "name": "#%%\n"
    }
   },
   "outputs": [
    {
     "data": {
      "text/plain": [
       "'/data/liyang/HoiTransformer/data/2.5vrd'"
      ]
     },
     "execution_count": 20,
     "metadata": {},
     "output_type": "execute_result"
    }
   ],
   "source": [
    "pwd"
   ]
  },
  {
   "cell_type": "code",
   "execution_count": 21,
   "id": "c4e90510-be92-4593-8b92-de089b96e80d",
   "metadata": {
    "pycharm": {
     "name": "#%%\n"
    }
   },
   "outputs": [
    {
     "name": "stdout",
     "output_type": "stream",
     "text": [
      "/bin/bash: ls | grep unique: command not found\n"
     ]
    }
   ],
   "source": [
    "!'ls | grep unique'"
   ]
  },
  {
   "cell_type": "markdown",
   "id": "73f7a502-026b-42fa-a6ec-0d19361570d1",
   "metadata": {
    "pycharm": {
     "name": "#%% md\n"
    }
   },
   "source": [
    "## Validation Set"
   ]
  },
  {
   "cell_type": "code",
   "execution_count": 22,
   "id": "d23219f2-8194-40e2-a3bf-549d8bccabe6",
   "metadata": {
    "pycharm": {
     "name": "#%%\n"
    }
   },
   "outputs": [
    {
     "data": {
      "text/html": [
       "<div>\n",
       "<style scoped>\n",
       "    .dataframe tbody tr th:only-of-type {\n",
       "        vertical-align: middle;\n",
       "    }\n",
       "\n",
       "    .dataframe tbody tr th {\n",
       "        vertical-align: top;\n",
       "    }\n",
       "\n",
       "    .dataframe thead th {\n",
       "        text-align: right;\n",
       "    }\n",
       "</style>\n",
       "<table border=\"1\" class=\"dataframe\">\n",
       "  <thead>\n",
       "    <tr style=\"text-align: right;\">\n",
       "      <th></th>\n",
       "      <th>image_id</th>\n",
       "      <th>object_id</th>\n",
       "      <th>entity</th>\n",
       "      <th>xmin</th>\n",
       "      <th>xmax</th>\n",
       "      <th>ymin</th>\n",
       "      <th>ymax</th>\n",
       "    </tr>\n",
       "  </thead>\n",
       "  <tbody>\n",
       "    <tr>\n",
       "      <th>0</th>\n",
       "      <td>0071f62f5d703904</td>\n",
       "      <td>0</td>\n",
       "      <td>/m/02p5f1q</td>\n",
       "      <td>0.122163</td>\n",
       "      <td>0.345615</td>\n",
       "      <td>0.088189</td>\n",
       "      <td>0.341194</td>\n",
       "    </tr>\n",
       "    <tr>\n",
       "      <th>1</th>\n",
       "      <td>0071f62f5d703904</td>\n",
       "      <td>1</td>\n",
       "      <td>/m/02p5f1q</td>\n",
       "      <td>0.167023</td>\n",
       "      <td>0.481887</td>\n",
       "      <td>0.392021</td>\n",
       "      <td>0.773787</td>\n",
       "    </tr>\n",
       "    <tr>\n",
       "      <th>2</th>\n",
       "      <td>0071f62f5d703904</td>\n",
       "      <td>2</td>\n",
       "      <td>/m/02p5f1q</td>\n",
       "      <td>0.369314</td>\n",
       "      <td>0.578377</td>\n",
       "      <td>0.123204</td>\n",
       "      <td>0.410093</td>\n",
       "    </tr>\n",
       "    <tr>\n",
       "      <th>3</th>\n",
       "      <td>0071f62f5d703904</td>\n",
       "      <td>3</td>\n",
       "      <td>/m/02p5f1q</td>\n",
       "      <td>0.504740</td>\n",
       "      <td>0.854307</td>\n",
       "      <td>0.441718</td>\n",
       "      <td>0.855110</td>\n",
       "    </tr>\n",
       "    <tr>\n",
       "      <th>4</th>\n",
       "      <td>0071f62f5d703904</td>\n",
       "      <td>4</td>\n",
       "      <td>/m/02vqfm</td>\n",
       "      <td>0.602288</td>\n",
       "      <td>0.835815</td>\n",
       "      <td>0.455359</td>\n",
       "      <td>0.651093</td>\n",
       "    </tr>\n",
       "    <tr>\n",
       "      <th>...</th>\n",
       "      <td>...</td>\n",
       "      <td>...</td>\n",
       "      <td>...</td>\n",
       "      <td>...</td>\n",
       "      <td>...</td>\n",
       "      <td>...</td>\n",
       "      <td>...</td>\n",
       "    </tr>\n",
       "    <tr>\n",
       "      <th>4058</th>\n",
       "      <td>ffb9838816c0021a</td>\n",
       "      <td>2</td>\n",
       "      <td>/m/04yx4</td>\n",
       "      <td>0.132984</td>\n",
       "      <td>0.286043</td>\n",
       "      <td>0.110463</td>\n",
       "      <td>0.490701</td>\n",
       "    </tr>\n",
       "    <tr>\n",
       "      <th>4059</th>\n",
       "      <td>ffb9838816c0021a</td>\n",
       "      <td>3</td>\n",
       "      <td>/m/083wq</td>\n",
       "      <td>0.569882</td>\n",
       "      <td>0.700175</td>\n",
       "      <td>0.602955</td>\n",
       "      <td>0.946547</td>\n",
       "    </tr>\n",
       "    <tr>\n",
       "      <th>4060</th>\n",
       "      <td>ffeba8a4d2029eac</td>\n",
       "      <td>0</td>\n",
       "      <td>/m/04m6gz</td>\n",
       "      <td>0.000000</td>\n",
       "      <td>1.000000</td>\n",
       "      <td>0.256178</td>\n",
       "      <td>0.666241</td>\n",
       "    </tr>\n",
       "    <tr>\n",
       "      <th>4061</th>\n",
       "      <td>ffeba8a4d2029eac</td>\n",
       "      <td>1</td>\n",
       "      <td>/m/07j7r</td>\n",
       "      <td>0.000000</td>\n",
       "      <td>1.000000</td>\n",
       "      <td>0.000000</td>\n",
       "      <td>0.602860</td>\n",
       "    </tr>\n",
       "    <tr>\n",
       "      <th>4062</th>\n",
       "      <td>ffeba8a4d2029eac</td>\n",
       "      <td>2</td>\n",
       "      <td>/m/0cgh4</td>\n",
       "      <td>0.000356</td>\n",
       "      <td>0.614101</td>\n",
       "      <td>0.000000</td>\n",
       "      <td>0.543839</td>\n",
       "    </tr>\n",
       "  </tbody>\n",
       "</table>\n",
       "<p>4063 rows × 7 columns</p>\n",
       "</div>"
      ],
      "text/plain": [
       "              image_id  object_id      entity      xmin      xmax      ymin  \\\n",
       "0     0071f62f5d703904          0  /m/02p5f1q  0.122163  0.345615  0.088189   \n",
       "1     0071f62f5d703904          1  /m/02p5f1q  0.167023  0.481887  0.392021   \n",
       "2     0071f62f5d703904          2  /m/02p5f1q  0.369314  0.578377  0.123204   \n",
       "3     0071f62f5d703904          3  /m/02p5f1q  0.504740  0.854307  0.441718   \n",
       "4     0071f62f5d703904          4   /m/02vqfm  0.602288  0.835815  0.455359   \n",
       "...                ...        ...         ...       ...       ...       ...   \n",
       "4058  ffb9838816c0021a          2    /m/04yx4  0.132984  0.286043  0.110463   \n",
       "4059  ffb9838816c0021a          3    /m/083wq  0.569882  0.700175  0.602955   \n",
       "4060  ffeba8a4d2029eac          0   /m/04m6gz  0.000000  1.000000  0.256178   \n",
       "4061  ffeba8a4d2029eac          1    /m/07j7r  0.000000  1.000000  0.000000   \n",
       "4062  ffeba8a4d2029eac          2    /m/0cgh4  0.000356  0.614101  0.000000   \n",
       "\n",
       "          ymax  \n",
       "0     0.341194  \n",
       "1     0.773787  \n",
       "2     0.410093  \n",
       "3     0.855110  \n",
       "4     0.651093  \n",
       "...        ...  \n",
       "4058  0.490701  \n",
       "4059  0.946547  \n",
       "4060  0.666241  \n",
       "4061  0.602860  \n",
       "4062  0.543839  \n",
       "\n",
       "[4063 rows x 7 columns]"
      ]
     },
     "execution_count": 22,
     "metadata": {},
     "output_type": "execute_result"
    }
   ],
   "source": [
    "within_image_objects_validation"
   ]
  },
  {
   "cell_type": "code",
   "execution_count": 23,
   "id": "a6fe0b62-0a2c-4fe0-85f9-7624bd73b8c7",
   "metadata": {
    "pycharm": {
     "name": "#%%\n"
    }
   },
   "outputs": [
    {
     "data": {
      "text/html": [
       "<div>\n",
       "<style scoped>\n",
       "    .dataframe tbody tr th:only-of-type {\n",
       "        vertical-align: middle;\n",
       "    }\n",
       "\n",
       "    .dataframe tbody tr th {\n",
       "        vertical-align: top;\n",
       "    }\n",
       "\n",
       "    .dataframe thead th {\n",
       "        text-align: right;\n",
       "    }\n",
       "</style>\n",
       "<table border=\"1\" class=\"dataframe\">\n",
       "  <thead>\n",
       "    <tr style=\"text-align: right;\">\n",
       "      <th></th>\n",
       "      <th>image_id_1</th>\n",
       "      <th>object_id_1</th>\n",
       "      <th>image_id_2</th>\n",
       "      <th>object_id_2</th>\n",
       "      <th>distance</th>\n",
       "      <th>occlusion</th>\n",
       "      <th>raw_distance</th>\n",
       "      <th>raw_occlusion</th>\n",
       "    </tr>\n",
       "  </thead>\n",
       "  <tbody>\n",
       "    <tr>\n",
       "      <th>0</th>\n",
       "      <td>0071f62f5d703904</td>\n",
       "      <td>0</td>\n",
       "      <td>0071f62f5d703904</td>\n",
       "      <td>1</td>\n",
       "      <td>2</td>\n",
       "      <td>0</td>\n",
       "      <td>2,2,2,2,2</td>\n",
       "      <td>0,0,0,0,0</td>\n",
       "    </tr>\n",
       "    <tr>\n",
       "      <th>1</th>\n",
       "      <td>0071f62f5d703904</td>\n",
       "      <td>0</td>\n",
       "      <td>0071f62f5d703904</td>\n",
       "      <td>2</td>\n",
       "      <td>2</td>\n",
       "      <td>0</td>\n",
       "      <td>2,2,2,2,2</td>\n",
       "      <td>0,0,0,0,0</td>\n",
       "    </tr>\n",
       "    <tr>\n",
       "      <th>2</th>\n",
       "      <td>0071f62f5d703904</td>\n",
       "      <td>0</td>\n",
       "      <td>0071f62f5d703904</td>\n",
       "      <td>3</td>\n",
       "      <td>2</td>\n",
       "      <td>0</td>\n",
       "      <td>2,2,2,2,2</td>\n",
       "      <td>0,0,0,0,0</td>\n",
       "    </tr>\n",
       "    <tr>\n",
       "      <th>3</th>\n",
       "      <td>0071f62f5d703904</td>\n",
       "      <td>0</td>\n",
       "      <td>0071f62f5d703904</td>\n",
       "      <td>4</td>\n",
       "      <td>2</td>\n",
       "      <td>0</td>\n",
       "      <td>2,2,2,2,2</td>\n",
       "      <td>0,0,0,0,0</td>\n",
       "    </tr>\n",
       "    <tr>\n",
       "      <th>4</th>\n",
       "      <td>0071f62f5d703904</td>\n",
       "      <td>1</td>\n",
       "      <td>0071f62f5d703904</td>\n",
       "      <td>2</td>\n",
       "      <td>1</td>\n",
       "      <td>0</td>\n",
       "      <td>1,1,1,2,1</td>\n",
       "      <td>0,0,0,0,0</td>\n",
       "    </tr>\n",
       "    <tr>\n",
       "      <th>...</th>\n",
       "      <td>...</td>\n",
       "      <td>...</td>\n",
       "      <td>...</td>\n",
       "      <td>...</td>\n",
       "      <td>...</td>\n",
       "      <td>...</td>\n",
       "      <td>...</td>\n",
       "      <td>...</td>\n",
       "    </tr>\n",
       "    <tr>\n",
       "      <th>6320</th>\n",
       "      <td>ffb9838816c0021a</td>\n",
       "      <td>1</td>\n",
       "      <td>ffb9838816c0021a</td>\n",
       "      <td>2</td>\n",
       "      <td>1</td>\n",
       "      <td>1</td>\n",
       "      <td>1,1,1,1,1</td>\n",
       "      <td>1,1,1,1,1</td>\n",
       "    </tr>\n",
       "    <tr>\n",
       "      <th>6321</th>\n",
       "      <td>ffb9838816c0021a</td>\n",
       "      <td>2</td>\n",
       "      <td>ffb9838816c0021a</td>\n",
       "      <td>3</td>\n",
       "      <td>2</td>\n",
       "      <td>0</td>\n",
       "      <td>2,2,2,2,2</td>\n",
       "      <td>0,0,0,0,0</td>\n",
       "    </tr>\n",
       "    <tr>\n",
       "      <th>6322</th>\n",
       "      <td>ffeba8a4d2029eac</td>\n",
       "      <td>0</td>\n",
       "      <td>ffeba8a4d2029eac</td>\n",
       "      <td>1</td>\n",
       "      <td>1</td>\n",
       "      <td>1</td>\n",
       "      <td>1,1,1,1,1</td>\n",
       "      <td>1,1,1,1,1</td>\n",
       "    </tr>\n",
       "    <tr>\n",
       "      <th>6323</th>\n",
       "      <td>ffeba8a4d2029eac</td>\n",
       "      <td>0</td>\n",
       "      <td>ffeba8a4d2029eac</td>\n",
       "      <td>2</td>\n",
       "      <td>1</td>\n",
       "      <td>1</td>\n",
       "      <td>1,1,1,1,1</td>\n",
       "      <td>1,1,1,1,0</td>\n",
       "    </tr>\n",
       "    <tr>\n",
       "      <th>6324</th>\n",
       "      <td>ffeba8a4d2029eac</td>\n",
       "      <td>2</td>\n",
       "      <td>ffeba8a4d2029eac</td>\n",
       "      <td>1</td>\n",
       "      <td>2</td>\n",
       "      <td>2</td>\n",
       "      <td>2,2,2,0,2</td>\n",
       "      <td>2,2,2,0,2</td>\n",
       "    </tr>\n",
       "  </tbody>\n",
       "</table>\n",
       "<p>6325 rows × 8 columns</p>\n",
       "</div>"
      ],
      "text/plain": [
       "            image_id_1  object_id_1        image_id_2  object_id_2  distance  \\\n",
       "0     0071f62f5d703904            0  0071f62f5d703904            1         2   \n",
       "1     0071f62f5d703904            0  0071f62f5d703904            2         2   \n",
       "2     0071f62f5d703904            0  0071f62f5d703904            3         2   \n",
       "3     0071f62f5d703904            0  0071f62f5d703904            4         2   \n",
       "4     0071f62f5d703904            1  0071f62f5d703904            2         1   \n",
       "...                ...          ...               ...          ...       ...   \n",
       "6320  ffb9838816c0021a            1  ffb9838816c0021a            2         1   \n",
       "6321  ffb9838816c0021a            2  ffb9838816c0021a            3         2   \n",
       "6322  ffeba8a4d2029eac            0  ffeba8a4d2029eac            1         1   \n",
       "6323  ffeba8a4d2029eac            0  ffeba8a4d2029eac            2         1   \n",
       "6324  ffeba8a4d2029eac            2  ffeba8a4d2029eac            1         2   \n",
       "\n",
       "      occlusion raw_distance raw_occlusion  \n",
       "0             0    2,2,2,2,2     0,0,0,0,0  \n",
       "1             0    2,2,2,2,2     0,0,0,0,0  \n",
       "2             0    2,2,2,2,2     0,0,0,0,0  \n",
       "3             0    2,2,2,2,2     0,0,0,0,0  \n",
       "4             0    1,1,1,2,1     0,0,0,0,0  \n",
       "...         ...          ...           ...  \n",
       "6320          1    1,1,1,1,1     1,1,1,1,1  \n",
       "6321          0    2,2,2,2,2     0,0,0,0,0  \n",
       "6322          1    1,1,1,1,1     1,1,1,1,1  \n",
       "6323          1    1,1,1,1,1     1,1,1,1,0  \n",
       "6324          2    2,2,2,0,2     2,2,2,0,2  \n",
       "\n",
       "[6325 rows x 8 columns]"
      ]
     },
     "execution_count": 23,
     "metadata": {},
     "output_type": "execute_result"
    }
   ],
   "source": [
    "within_image_vrd_validation"
   ]
  },
  {
   "cell_type": "markdown",
   "id": "d62f3c59-e396-4abe-a597-08a2b79af3ee",
   "metadata": {
    "pycharm": {
     "name": "#%% md\n"
    }
   },
   "source": [
    "### Investigate the number of unique images"
   ]
  },
  {
   "cell_type": "code",
   "execution_count": 24,
   "id": "41e925a8-59b0-4ed7-9ca2-d6381b3b4543",
   "metadata": {
    "pycharm": {
     "name": "#%%\n"
    }
   },
   "outputs": [
    {
     "name": "stdout",
     "output_type": "stream",
     "text": [
      "number of  unique images in within_image_objects_validation:     1200\n",
      "number of  unique images in within_image_vrd_validation:         1196\n",
      "number of  unique images after combining the above two:          1200\n"
     ]
    }
   ],
   "source": [
    "print('number of  unique images in within_image_objects_validation:    ', within_image_objects_validation['image_id'].unique().shape[0])\n",
    "print('number of  unique images in within_image_vrd_validation:        ', within_image_vrd_validation['image_id_1'].unique().shape[0])\n",
    "print('number of  unique images after combining the above two:         ', pd.concat([within_image_objects_validation['image_id'], within_image_vrd_validation['image_id_1']]).unique().shape[0])"
   ]
  },
  {
   "cell_type": "markdown",
   "id": "cf8e7e03-ba5b-4c2c-aad8-8d05dd4bbb97",
   "metadata": {
    "pycharm": {
     "name": "#%% md\n"
    }
   },
   "source": [
    "Since the number of unique images after combining two datasets is the same as the number of images in the within_image_objects_validation, within_image_objects_validation contains all the images names.\n",
    "\n",
    "In other words, there are some images that have annotations for objects but no annotation for visual relationships.\n",
    "\n",
    "We do not want to validate on images which have annotations for objects but no annotation for visual relationships. \n",
    "\n",
    "Therefore, we use image names and visual relationships from the vrd annotations, and find their object bounding boxes from the object annotations. "
   ]
  },
  {
   "cell_type": "markdown",
   "id": "6f66c875-872b-4ff7-b011-68de3ce97beb",
   "metadata": {
    "pycharm": {
     "name": "#%% md\n"
    }
   },
   "source": [
    "## Test Set"
   ]
  },
  {
   "cell_type": "code",
   "execution_count": 25,
   "id": "3e14ec9f-61bc-4283-8790-c304bf781af1",
   "metadata": {
    "pycharm": {
     "name": "#%%\n"
    }
   },
   "outputs": [
    {
     "data": {
      "text/html": [
       "<div>\n",
       "<style scoped>\n",
       "    .dataframe tbody tr th:only-of-type {\n",
       "        vertical-align: middle;\n",
       "    }\n",
       "\n",
       "    .dataframe tbody tr th {\n",
       "        vertical-align: top;\n",
       "    }\n",
       "\n",
       "    .dataframe thead th {\n",
       "        text-align: right;\n",
       "    }\n",
       "</style>\n",
       "<table border=\"1\" class=\"dataframe\">\n",
       "  <thead>\n",
       "    <tr style=\"text-align: right;\">\n",
       "      <th></th>\n",
       "      <th>image_id</th>\n",
       "      <th>object_id</th>\n",
       "      <th>entity</th>\n",
       "      <th>xmin</th>\n",
       "      <th>xmax</th>\n",
       "      <th>ymin</th>\n",
       "      <th>ymax</th>\n",
       "    </tr>\n",
       "  </thead>\n",
       "  <tbody>\n",
       "    <tr>\n",
       "      <th>0</th>\n",
       "      <td>0002ab0af02e4a77</td>\n",
       "      <td>0</td>\n",
       "      <td>/m/09j2d</td>\n",
       "      <td>0.407782</td>\n",
       "      <td>0.845727</td>\n",
       "      <td>0.385412</td>\n",
       "      <td>0.999711</td>\n",
       "    </tr>\n",
       "    <tr>\n",
       "      <th>1</th>\n",
       "      <td>0002ab0af02e4a77</td>\n",
       "      <td>1</td>\n",
       "      <td>/m/04hgtk</td>\n",
       "      <td>0.534108</td>\n",
       "      <td>0.745821</td>\n",
       "      <td>0.127420</td>\n",
       "      <td>0.462402</td>\n",
       "    </tr>\n",
       "    <tr>\n",
       "      <th>2</th>\n",
       "      <td>0003d84e0165d630</td>\n",
       "      <td>0</td>\n",
       "      <td>/m/01g317</td>\n",
       "      <td>0.735415</td>\n",
       "      <td>0.837862</td>\n",
       "      <td>0.014350</td>\n",
       "      <td>0.384812</td>\n",
       "    </tr>\n",
       "    <tr>\n",
       "      <th>3</th>\n",
       "      <td>0003d84e0165d630</td>\n",
       "      <td>1</td>\n",
       "      <td>/m/018xm</td>\n",
       "      <td>0.000000</td>\n",
       "      <td>0.198794</td>\n",
       "      <td>0.665719</td>\n",
       "      <td>0.942062</td>\n",
       "    </tr>\n",
       "    <tr>\n",
       "      <th>4</th>\n",
       "      <td>000b6e5bfa3e2a34</td>\n",
       "      <td>0</td>\n",
       "      <td>/m/04yx4</td>\n",
       "      <td>0.000000</td>\n",
       "      <td>0.387860</td>\n",
       "      <td>0.174753</td>\n",
       "      <td>0.966402</td>\n",
       "    </tr>\n",
       "    <tr>\n",
       "      <th>...</th>\n",
       "      <td>...</td>\n",
       "      <td>...</td>\n",
       "      <td>...</td>\n",
       "      <td>...</td>\n",
       "      <td>...</td>\n",
       "      <td>...</td>\n",
       "      <td>...</td>\n",
       "    </tr>\n",
       "    <tr>\n",
       "      <th>13888</th>\n",
       "      <td>ffe04404f471a3e2</td>\n",
       "      <td>5</td>\n",
       "      <td>/m/01_bhs</td>\n",
       "      <td>0.584049</td>\n",
       "      <td>1.000000</td>\n",
       "      <td>0.592052</td>\n",
       "      <td>1.000000</td>\n",
       "    </tr>\n",
       "    <tr>\n",
       "      <th>13889</th>\n",
       "      <td>ffe1d00be52c3142</td>\n",
       "      <td>0</td>\n",
       "      <td>/m/07j87</td>\n",
       "      <td>0.036083</td>\n",
       "      <td>0.491698</td>\n",
       "      <td>0.203271</td>\n",
       "      <td>0.787928</td>\n",
       "    </tr>\n",
       "    <tr>\n",
       "      <th>13890</th>\n",
       "      <td>ffe1d00be52c3142</td>\n",
       "      <td>1</td>\n",
       "      <td>/m/07j87</td>\n",
       "      <td>0.479360</td>\n",
       "      <td>0.964239</td>\n",
       "      <td>0.300079</td>\n",
       "      <td>0.861355</td>\n",
       "    </tr>\n",
       "    <tr>\n",
       "      <th>13891</th>\n",
       "      <td>fffc2ecd02883c6f</td>\n",
       "      <td>0</td>\n",
       "      <td>/m/04hgtk</td>\n",
       "      <td>0.503194</td>\n",
       "      <td>0.828060</td>\n",
       "      <td>0.017568</td>\n",
       "      <td>0.614981</td>\n",
       "    </tr>\n",
       "    <tr>\n",
       "      <th>13892</th>\n",
       "      <td>fffc2ecd02883c6f</td>\n",
       "      <td>1</td>\n",
       "      <td>/m/0dzct</td>\n",
       "      <td>0.527246</td>\n",
       "      <td>0.758841</td>\n",
       "      <td>0.269313</td>\n",
       "      <td>0.612013</td>\n",
       "    </tr>\n",
       "  </tbody>\n",
       "</table>\n",
       "<p>13893 rows × 7 columns</p>\n",
       "</div>"
      ],
      "text/plain": [
       "               image_id  object_id     entity      xmin      xmax      ymin  \\\n",
       "0      0002ab0af02e4a77          0   /m/09j2d  0.407782  0.845727  0.385412   \n",
       "1      0002ab0af02e4a77          1  /m/04hgtk  0.534108  0.745821  0.127420   \n",
       "2      0003d84e0165d630          0  /m/01g317  0.735415  0.837862  0.014350   \n",
       "3      0003d84e0165d630          1   /m/018xm  0.000000  0.198794  0.665719   \n",
       "4      000b6e5bfa3e2a34          0   /m/04yx4  0.000000  0.387860  0.174753   \n",
       "...                 ...        ...        ...       ...       ...       ...   \n",
       "13888  ffe04404f471a3e2          5  /m/01_bhs  0.584049  1.000000  0.592052   \n",
       "13889  ffe1d00be52c3142          0   /m/07j87  0.036083  0.491698  0.203271   \n",
       "13890  ffe1d00be52c3142          1   /m/07j87  0.479360  0.964239  0.300079   \n",
       "13891  fffc2ecd02883c6f          0  /m/04hgtk  0.503194  0.828060  0.017568   \n",
       "13892  fffc2ecd02883c6f          1   /m/0dzct  0.527246  0.758841  0.269313   \n",
       "\n",
       "           ymax  \n",
       "0      0.999711  \n",
       "1      0.462402  \n",
       "2      0.384812  \n",
       "3      0.942062  \n",
       "4      0.966402  \n",
       "...         ...  \n",
       "13888  1.000000  \n",
       "13889  0.787928  \n",
       "13890  0.861355  \n",
       "13891  0.614981  \n",
       "13892  0.612013  \n",
       "\n",
       "[13893 rows x 7 columns]"
      ]
     },
     "execution_count": 25,
     "metadata": {},
     "output_type": "execute_result"
    }
   ],
   "source": [
    "within_image_objects_test"
   ]
  },
  {
   "cell_type": "code",
   "execution_count": 26,
   "id": "f273222c-9bc0-4ffd-a577-71ed95d6eb6f",
   "metadata": {
    "pycharm": {
     "name": "#%%\n"
    }
   },
   "outputs": [
    {
     "data": {
      "text/html": [
       "<div>\n",
       "<style scoped>\n",
       "    .dataframe tbody tr th:only-of-type {\n",
       "        vertical-align: middle;\n",
       "    }\n",
       "\n",
       "    .dataframe tbody tr th {\n",
       "        vertical-align: top;\n",
       "    }\n",
       "\n",
       "    .dataframe thead th {\n",
       "        text-align: right;\n",
       "    }\n",
       "</style>\n",
       "<table border=\"1\" class=\"dataframe\">\n",
       "  <thead>\n",
       "    <tr style=\"text-align: right;\">\n",
       "      <th></th>\n",
       "      <th>image_id_1</th>\n",
       "      <th>object_id_1</th>\n",
       "      <th>image_id_2</th>\n",
       "      <th>object_id_2</th>\n",
       "      <th>distance</th>\n",
       "      <th>occlusion</th>\n",
       "      <th>raw_distance</th>\n",
       "      <th>raw_occlusion</th>\n",
       "    </tr>\n",
       "  </thead>\n",
       "  <tbody>\n",
       "    <tr>\n",
       "      <th>0</th>\n",
       "      <td>0002ab0af02e4a77</td>\n",
       "      <td>0</td>\n",
       "      <td>0002ab0af02e4a77</td>\n",
       "      <td>1</td>\n",
       "      <td>0</td>\n",
       "      <td>0</td>\n",
       "      <td>0,0,0,0,0</td>\n",
       "      <td>0,0,0,0,0</td>\n",
       "    </tr>\n",
       "    <tr>\n",
       "      <th>1</th>\n",
       "      <td>0003d84e0165d630</td>\n",
       "      <td>0</td>\n",
       "      <td>0003d84e0165d630</td>\n",
       "      <td>1</td>\n",
       "      <td>2</td>\n",
       "      <td>0</td>\n",
       "      <td>2,2,2,2,2</td>\n",
       "      <td>0,0,0,0,0</td>\n",
       "    </tr>\n",
       "    <tr>\n",
       "      <th>2</th>\n",
       "      <td>000b6e5bfa3e2a34</td>\n",
       "      <td>0</td>\n",
       "      <td>000b6e5bfa3e2a34</td>\n",
       "      <td>1</td>\n",
       "      <td>1</td>\n",
       "      <td>0</td>\n",
       "      <td>1,0,1,1,1</td>\n",
       "      <td>0,0,1,1,0</td>\n",
       "    </tr>\n",
       "    <tr>\n",
       "      <th>3</th>\n",
       "      <td>000b6e5bfa3e2a34</td>\n",
       "      <td>0</td>\n",
       "      <td>000b6e5bfa3e2a34</td>\n",
       "      <td>2</td>\n",
       "      <td>1</td>\n",
       "      <td>1</td>\n",
       "      <td>1,1,1,1,1</td>\n",
       "      <td>1,1,1,0,1</td>\n",
       "    </tr>\n",
       "    <tr>\n",
       "      <th>4</th>\n",
       "      <td>000b6e5bfa3e2a34</td>\n",
       "      <td>0</td>\n",
       "      <td>000b6e5bfa3e2a34</td>\n",
       "      <td>3</td>\n",
       "      <td>1</td>\n",
       "      <td>0</td>\n",
       "      <td>1,1,1,1,1</td>\n",
       "      <td>0,0,0,0,0</td>\n",
       "    </tr>\n",
       "    <tr>\n",
       "      <th>...</th>\n",
       "      <td>...</td>\n",
       "      <td>...</td>\n",
       "      <td>...</td>\n",
       "      <td>...</td>\n",
       "      <td>...</td>\n",
       "      <td>...</td>\n",
       "      <td>...</td>\n",
       "      <td>...</td>\n",
       "    </tr>\n",
       "    <tr>\n",
       "      <th>23661</th>\n",
       "      <td>ffe04404f471a3e2</td>\n",
       "      <td>3</td>\n",
       "      <td>ffe04404f471a3e2</td>\n",
       "      <td>4</td>\n",
       "      <td>2</td>\n",
       "      <td>0</td>\n",
       "      <td>2,2,2,3,2</td>\n",
       "      <td>0,1,0,0,0</td>\n",
       "    </tr>\n",
       "    <tr>\n",
       "      <th>23662</th>\n",
       "      <td>ffe04404f471a3e2</td>\n",
       "      <td>3</td>\n",
       "      <td>ffe04404f471a3e2</td>\n",
       "      <td>5</td>\n",
       "      <td>2</td>\n",
       "      <td>0</td>\n",
       "      <td>2,2,2,2,2</td>\n",
       "      <td>0,0,0,0,0</td>\n",
       "    </tr>\n",
       "    <tr>\n",
       "      <th>23663</th>\n",
       "      <td>ffe04404f471a3e2</td>\n",
       "      <td>5</td>\n",
       "      <td>ffe04404f471a3e2</td>\n",
       "      <td>4</td>\n",
       "      <td>1</td>\n",
       "      <td>1</td>\n",
       "      <td>1,1,1,1,1</td>\n",
       "      <td>1,1,1,1,1</td>\n",
       "    </tr>\n",
       "    <tr>\n",
       "      <th>23664</th>\n",
       "      <td>ffe1d00be52c3142</td>\n",
       "      <td>0</td>\n",
       "      <td>ffe1d00be52c3142</td>\n",
       "      <td>1</td>\n",
       "      <td>2</td>\n",
       "      <td>0</td>\n",
       "      <td>3,2,2,2,3</td>\n",
       "      <td>0,0,0,0,0</td>\n",
       "    </tr>\n",
       "    <tr>\n",
       "      <th>23665</th>\n",
       "      <td>fffc2ecd02883c6f</td>\n",
       "      <td>0</td>\n",
       "      <td>fffc2ecd02883c6f</td>\n",
       "      <td>1</td>\n",
       "      <td>0</td>\n",
       "      <td>0</td>\n",
       "      <td>0,0,0,0,0</td>\n",
       "      <td>0,0,0,0,0</td>\n",
       "    </tr>\n",
       "  </tbody>\n",
       "</table>\n",
       "<p>23666 rows × 8 columns</p>\n",
       "</div>"
      ],
      "text/plain": [
       "             image_id_1  object_id_1        image_id_2  object_id_2  distance  \\\n",
       "0      0002ab0af02e4a77            0  0002ab0af02e4a77            1         0   \n",
       "1      0003d84e0165d630            0  0003d84e0165d630            1         2   \n",
       "2      000b6e5bfa3e2a34            0  000b6e5bfa3e2a34            1         1   \n",
       "3      000b6e5bfa3e2a34            0  000b6e5bfa3e2a34            2         1   \n",
       "4      000b6e5bfa3e2a34            0  000b6e5bfa3e2a34            3         1   \n",
       "...                 ...          ...               ...          ...       ...   \n",
       "23661  ffe04404f471a3e2            3  ffe04404f471a3e2            4         2   \n",
       "23662  ffe04404f471a3e2            3  ffe04404f471a3e2            5         2   \n",
       "23663  ffe04404f471a3e2            5  ffe04404f471a3e2            4         1   \n",
       "23664  ffe1d00be52c3142            0  ffe1d00be52c3142            1         2   \n",
       "23665  fffc2ecd02883c6f            0  fffc2ecd02883c6f            1         0   \n",
       "\n",
       "       occlusion raw_distance raw_occlusion  \n",
       "0              0    0,0,0,0,0     0,0,0,0,0  \n",
       "1              0    2,2,2,2,2     0,0,0,0,0  \n",
       "2              0    1,0,1,1,1     0,0,1,1,0  \n",
       "3              1    1,1,1,1,1     1,1,1,0,1  \n",
       "4              0    1,1,1,1,1     0,0,0,0,0  \n",
       "...          ...          ...           ...  \n",
       "23661          0    2,2,2,3,2     0,1,0,0,0  \n",
       "23662          0    2,2,2,2,2     0,0,0,0,0  \n",
       "23663          1    1,1,1,1,1     1,1,1,1,1  \n",
       "23664          0    3,2,2,2,3     0,0,0,0,0  \n",
       "23665          0    0,0,0,0,0     0,0,0,0,0  \n",
       "\n",
       "[23666 rows x 8 columns]"
      ]
     },
     "execution_count": 26,
     "metadata": {},
     "output_type": "execute_result"
    }
   ],
   "source": [
    "within_image_vrd_test"
   ]
  },
  {
   "cell_type": "markdown",
   "id": "6978cbe8-de7c-4d66-a747-f568b9662f19",
   "metadata": {
    "pycharm": {
     "name": "#%% md\n"
    }
   },
   "source": [
    "### Investigate the number of unique images"
   ]
  },
  {
   "cell_type": "code",
   "execution_count": 27,
   "id": "ba44b814-f8f9-43d7-b323-b4080dc391e1",
   "metadata": {
    "pycharm": {
     "name": "#%%\n"
    }
   },
   "outputs": [
    {
     "name": "stdout",
     "output_type": "stream",
     "text": [
      "number of  unique images in within_image_objects_test:     4000\n",
      "number of  unique images in within_image_vrd_test:         3987\n",
      "number of  unique images after combining the above two:    4000\n"
     ]
    }
   ],
   "source": [
    "print('number of  unique images in within_image_objects_test:    ', within_image_objects_test['image_id'].unique().shape[0])\n",
    "print('number of  unique images in within_image_vrd_test:        ', within_image_vrd_test['image_id_1'].unique().shape[0])\n",
    "print('number of  unique images after combining the above two:   ', pd.concat([within_image_objects_test['image_id'], within_image_vrd_test['image_id_1']]).unique().shape[0])"
   ]
  },
  {
   "cell_type": "markdown",
   "id": "52dd39fc-8a32-4b96-86b4-41b275ebd855",
   "metadata": {
    "pycharm": {
     "name": "#%% md\n"
    }
   },
   "source": [
    "Since the number of unique images after combining two datasets is the same as the number of images in the within_image_objects_test, within_image_objects_test contains all the images names.\n",
    "\n",
    "In other words, there are some images that have annotations for objects but no annotation for visual relationships.\n",
    "\n",
    "We do not want to test on images which have annotations for objects but no annotation for visual relationships. \n",
    "\n",
    "Therefore, we use image names and visual relationships from the vrd annotations, and find their object bounding boxes from the object annotations. "
   ]
  },
  {
   "cell_type": "code",
   "execution_count": 28,
   "id": "6ffce8a9-4027-4c31-93da-9a4dcf77ca8e",
   "metadata": {
    "pycharm": {
     "name": "#%%\n"
    }
   },
   "outputs": [],
   "source": [
    "unique_image_names = within_image_vrd_test['image_id_1'].unique() "
   ]
  },
  {
   "cell_type": "code",
   "execution_count": 29,
   "id": "31d78e85-c89a-4866-a533-483c29f0ed62",
   "metadata": {
    "pycharm": {
     "name": "#%%\n"
    }
   },
   "outputs": [
    {
     "data": {
      "text/plain": [
       "227"
      ]
     },
     "execution_count": 29,
     "metadata": {},
     "output_type": "execute_result"
    }
   ],
   "source": [
    "max_relations = -1\n",
    "num_relations = []\n",
    "for i in range(len(unique_image_names)):\n",
    "    current_num_relations = within_image_vrd_test[within_image_vrd_test['image_id_1'] == unique_image_names[i]].shape[0]\n",
    "    num_relations.append(current_num_relations)\n",
    "    if current_num_relations > max_relations:\n",
    "        max_relations = current_num_relations\n",
    "        \n",
    "max_relations"
   ]
  },
  {
   "cell_type": "code",
   "execution_count": 30,
   "id": "37718201-a60e-49cb-9ec6-9a32130407ca",
   "metadata": {
    "pycharm": {
     "name": "#%%\n"
    }
   },
   "outputs": [
    {
     "data": {
      "text/plain": [
       "454"
      ]
     },
     "execution_count": 30,
     "metadata": {},
     "output_type": "execute_result"
    }
   ],
   "source": [
    "227 * 2"
   ]
  },
  {
   "cell_type": "code",
   "execution_count": 31,
   "id": "face8ba8-ce3e-4f08-a5ea-d1084bd2b876",
   "metadata": {
    "pycharm": {
     "name": "#%%\n"
    }
   },
   "outputs": [],
   "source": [
    "import matplotlib.pyplot as plt"
   ]
  },
  {
   "cell_type": "code",
   "execution_count": 32,
   "id": "8bd0bc0b-efe7-4b05-aede-1db2ece336f0",
   "metadata": {
    "pycharm": {
     "name": "#%%\n"
    }
   },
   "outputs": [
    {
     "data": {
      "text/plain": [
       "(array([2.557e+03, 1.770e+02, 4.410e+02, 3.080e+02, 1.000e+01, 8.000e+01,\n",
       "        1.290e+02, 1.800e+01, 8.900e+01, 4.000e+00, 9.000e+00, 6.200e+01,\n",
       "        1.000e+00, 1.000e+00, 3.000e+00, 2.400e+01, 1.000e+00, 0.000e+00,\n",
       "        3.000e+00, 2.900e+01, 0.000e+00, 2.000e+00, 2.000e+00, 1.300e+01,\n",
       "        0.000e+00, 1.000e+00, 3.000e+00, 3.000e+00, 2.000e+00, 0.000e+00,\n",
       "        0.000e+00, 0.000e+00, 0.000e+00, 3.000e+00, 0.000e+00, 0.000e+00,\n",
       "        0.000e+00, 0.000e+00, 0.000e+00, 3.000e+00, 1.000e+00, 0.000e+00,\n",
       "        0.000e+00, 0.000e+00, 2.000e+00, 1.000e+00, 0.000e+00, 0.000e+00,\n",
       "        0.000e+00, 0.000e+00, 0.000e+00, 0.000e+00, 1.000e+00, 0.000e+00,\n",
       "        0.000e+00, 0.000e+00, 0.000e+00, 0.000e+00, 0.000e+00, 1.000e+00,\n",
       "        0.000e+00, 0.000e+00, 0.000e+00, 0.000e+00, 0.000e+00, 0.000e+00,\n",
       "        1.000e+00, 0.000e+00, 0.000e+00, 0.000e+00, 0.000e+00, 0.000e+00,\n",
       "        0.000e+00, 0.000e+00, 0.000e+00, 0.000e+00, 0.000e+00, 0.000e+00,\n",
       "        0.000e+00, 0.000e+00, 0.000e+00, 0.000e+00, 0.000e+00, 0.000e+00,\n",
       "        0.000e+00, 0.000e+00, 0.000e+00, 0.000e+00, 0.000e+00, 0.000e+00,\n",
       "        0.000e+00, 0.000e+00, 1.000e+00, 0.000e+00, 0.000e+00, 0.000e+00,\n",
       "        0.000e+00, 0.000e+00, 0.000e+00, 1.000e+00]),\n",
       " array([  1.  ,   3.26,   5.52,   7.78,  10.04,  12.3 ,  14.56,  16.82,\n",
       "         19.08,  21.34,  23.6 ,  25.86,  28.12,  30.38,  32.64,  34.9 ,\n",
       "         37.16,  39.42,  41.68,  43.94,  46.2 ,  48.46,  50.72,  52.98,\n",
       "         55.24,  57.5 ,  59.76,  62.02,  64.28,  66.54,  68.8 ,  71.06,\n",
       "         73.32,  75.58,  77.84,  80.1 ,  82.36,  84.62,  86.88,  89.14,\n",
       "         91.4 ,  93.66,  95.92,  98.18, 100.44, 102.7 , 104.96, 107.22,\n",
       "        109.48, 111.74, 114.  , 116.26, 118.52, 120.78, 123.04, 125.3 ,\n",
       "        127.56, 129.82, 132.08, 134.34, 136.6 , 138.86, 141.12, 143.38,\n",
       "        145.64, 147.9 , 150.16, 152.42, 154.68, 156.94, 159.2 , 161.46,\n",
       "        163.72, 165.98, 168.24, 170.5 , 172.76, 175.02, 177.28, 179.54,\n",
       "        181.8 , 184.06, 186.32, 188.58, 190.84, 193.1 , 195.36, 197.62,\n",
       "        199.88, 202.14, 204.4 , 206.66, 208.92, 211.18, 213.44, 215.7 ,\n",
       "        217.96, 220.22, 222.48, 224.74, 227.  ]),\n",
       " <BarContainer object of 100 artists>)"
      ]
     },
     "execution_count": 32,
     "metadata": {},
     "output_type": "execute_result"
    },
    {
     "data": {
      "image/png": "[encoded data removed]",
      "text/plain": [
       "<Figure size 432x288 with 1 Axes>"
      ]
     },
     "metadata": {
      "needs_background": "light"
     },
     "output_type": "display_data"
    }
   ],
   "source": [
    "plt.hist(np.array(num_relations), bins = 100)"
   ]
  },
  {
   "cell_type": "code",
   "execution_count": 33,
   "id": "e84e7e20-0f2a-4d3b-9ef5-0e26b0a87e5f",
   "metadata": {
    "pycharm": {
     "name": "#%%\n"
    }
   },
   "outputs": [
    {
     "data": {
      "text/plain": [
       "5.935791321795836"
      ]
     },
     "execution_count": 33,
     "metadata": {},
     "output_type": "execute_result"
    }
   ],
   "source": [
    "np.array(num_relations).mean()"
   ]
  },
  {
   "cell_type": "code",
   "execution_count": 34,
   "id": "66911d4e-1fab-402d-9b37-d3ba7d2cabc3",
   "metadata": {
    "pycharm": {
     "name": "#%%\n"
    }
   },
   "outputs": [
    {
     "data": {
      "text/plain": [
       "1"
      ]
     },
     "execution_count": 34,
     "metadata": {},
     "output_type": "execute_result"
    }
   ],
   "source": [
    "np.array(num_relations).min()"
   ]
  },
  {
   "cell_type": "code",
   "execution_count": 35,
   "id": "ecefba04-c29f-4425-a5f1-1c467cac30b6",
   "metadata": {
    "pycharm": {
     "name": "#%%\n"
    }
   },
   "outputs": [
    {
     "data": {
      "text/plain": [
       "227"
      ]
     },
     "execution_count": 35,
     "metadata": {},
     "output_type": "execute_result"
    }
   ],
   "source": [
    "np.array(num_relations).max()"
   ]
  },
  {
   "cell_type": "code",
   "execution_count": 36,
   "id": "ce5c090c-1f9b-4be6-978e-b1d102cc2834",
   "metadata": {
    "pycharm": {
     "name": "#%%\n"
    }
   },
   "outputs": [
    {
     "data": {
      "text/plain": [
       "39"
      ]
     },
     "execution_count": 36,
     "metadata": {},
     "output_type": "execute_result"
    }
   ],
   "source": [
    "(np.array(num_relations) > 50).sum()"
   ]
  },
  {
   "cell_type": "code",
   "execution_count": null,
   "id": "e7b48ab2-1fe2-441e-aa13-79734df15732",
   "metadata": {
    "pycharm": {
     "name": "#%%\n"
    }
   },
   "outputs": [],
   "source": []
  },
  {
   "cell_type": "code",
   "execution_count": 37,
   "id": "91de379a-86e8-4d27-afcb-016fe867eef0",
   "metadata": {
    "pycharm": {
     "name": "#%%\n"
    }
   },
   "outputs": [],
   "source": [
    "unique_image_names_obj = within_image_objects_test['image_id'].unique() "
   ]
  },
  {
   "cell_type": "code",
   "execution_count": 38,
   "id": "407852a2-4451-43dc-8da6-271f903599f8",
   "metadata": {
    "pycharm": {
     "name": "#%%\n"
    }
   },
   "outputs": [
    {
     "data": {
      "text/plain": [
       "22"
      ]
     },
     "execution_count": 38,
     "metadata": {},
     "output_type": "execute_result"
    }
   ],
   "source": [
    "max_objects = -1\n",
    "num_objects = []\n",
    "for i in range(len(unique_image_names_obj)):\n",
    "    current_num_objects = within_image_objects_test[within_image_objects_test['image_id'] == unique_image_names_obj[i]].shape[0]\n",
    "    num_objects.append(current_num_objects)\n",
    "    if current_num_objects > max_objects:\n",
    "        max_objects = current_num_objects\n",
    "        \n",
    "max_objects"
   ]
  },
  {
   "cell_type": "code",
   "execution_count": 39,
   "id": "7a4d05ca-d746-4cb9-b735-5ff06cc39602",
   "metadata": {
    "pycharm": {
     "name": "#%%\n"
    }
   },
   "outputs": [
    {
     "data": {
      "text/plain": [
       "924"
      ]
     },
     "execution_count": 39,
     "metadata": {},
     "output_type": "execute_result"
    }
   ],
   "source": [
    "22 * 21 * 2"
   ]
  },
  {
   "cell_type": "code",
   "execution_count": null,
   "id": "f027c7c3-f844-469a-a377-2d32486f16b7",
   "metadata": {
    "pycharm": {
     "name": "#%%\n"
    }
   },
   "outputs": [],
   "source": []
  },
  {
   "cell_type": "code",
   "execution_count": null,
   "id": "fdf179ab-443f-4115-ac81-675c2a1583ec",
   "metadata": {
    "pycharm": {
     "name": "#%%\n"
    }
   },
   "outputs": [],
   "source": []
  },
  {
   "cell_type": "code",
   "execution_count": null,
   "id": "0761fad6-7893-4e52-b3fb-c75480db1ed7",
   "metadata": {
    "pycharm": {
     "name": "#%%\n"
    }
   },
   "outputs": [],
   "source": []
  },
  {
   "cell_type": "code",
   "execution_count": null,
   "id": "0dff6ac2-ca44-4cc2-a105-6114362c528e",
   "metadata": {
    "pycharm": {
     "name": "#%%\n"
    }
   },
   "outputs": [],
   "source": []
  },
  {
   "cell_type": "code",
   "execution_count": null,
   "id": "ea1e827e-2053-4834-84d2-89baa3ec2d5f",
   "metadata": {
    "pycharm": {
     "name": "#%%\n"
    }
   },
   "outputs": [],
   "source": []
  },
  {
   "cell_type": "code",
   "execution_count": 40,
   "id": "e8ae7760-5749-4ea5-8814-a315f32b9ee2",
   "metadata": {
    "pycharm": {
     "name": "#%%\n"
    }
   },
   "outputs": [
    {
     "data": {
      "text/html": [
       "<div>\n",
       "<style scoped>\n",
       "    .dataframe tbody tr th:only-of-type {\n",
       "        vertical-align: middle;\n",
       "    }\n",
       "\n",
       "    .dataframe tbody tr th {\n",
       "        vertical-align: top;\n",
       "    }\n",
       "\n",
       "    .dataframe thead th {\n",
       "        text-align: right;\n",
       "    }\n",
       "</style>\n",
       "<table border=\"1\" class=\"dataframe\">\n",
       "  <thead>\n",
       "    <tr style=\"text-align: right;\">\n",
       "      <th></th>\n",
       "      <th>image_id_1</th>\n",
       "      <th>object_id_1</th>\n",
       "      <th>image_id_2</th>\n",
       "      <th>object_id_2</th>\n",
       "      <th>distance</th>\n",
       "      <th>occlusion</th>\n",
       "      <th>raw_distance</th>\n",
       "      <th>raw_occlusion</th>\n",
       "    </tr>\n",
       "  </thead>\n",
       "  <tbody>\n",
       "    <tr>\n",
       "      <th>0</th>\n",
       "      <td>000002b66c9c498e</td>\n",
       "      <td>0</td>\n",
       "      <td>000002b66c9c498e</td>\n",
       "      <td>1</td>\n",
       "      <td>3</td>\n",
       "      <td>0</td>\n",
       "      <td>3</td>\n",
       "      <td>0</td>\n",
       "    </tr>\n",
       "    <tr>\n",
       "      <th>1</th>\n",
       "      <td>00003d63a4839019</td>\n",
       "      <td>0</td>\n",
       "      <td>00003d63a4839019</td>\n",
       "      <td>1</td>\n",
       "      <td>3</td>\n",
       "      <td>3</td>\n",
       "      <td>3</td>\n",
       "      <td>3</td>\n",
       "    </tr>\n",
       "    <tr>\n",
       "      <th>2</th>\n",
       "      <td>0000599864fd15b3</td>\n",
       "      <td>0</td>\n",
       "      <td>0000599864fd15b3</td>\n",
       "      <td>1</td>\n",
       "      <td>1</td>\n",
       "      <td>0</td>\n",
       "      <td>1</td>\n",
       "      <td>0</td>\n",
       "    </tr>\n",
       "    <tr>\n",
       "      <th>3</th>\n",
       "      <td>000060e3121c7305</td>\n",
       "      <td>0</td>\n",
       "      <td>000060e3121c7305</td>\n",
       "      <td>1</td>\n",
       "      <td>0</td>\n",
       "      <td>0</td>\n",
       "      <td>0</td>\n",
       "      <td>0</td>\n",
       "    </tr>\n",
       "    <tr>\n",
       "      <th>4</th>\n",
       "      <td>000096726fd6c6c8</td>\n",
       "      <td>0</td>\n",
       "      <td>000096726fd6c6c8</td>\n",
       "      <td>1</td>\n",
       "      <td>2</td>\n",
       "      <td>2</td>\n",
       "      <td>2</td>\n",
       "      <td>2</td>\n",
       "    </tr>\n",
       "    <tr>\n",
       "      <th>...</th>\n",
       "      <td>...</td>\n",
       "      <td>...</td>\n",
       "      <td>...</td>\n",
       "      <td>...</td>\n",
       "      <td>...</td>\n",
       "      <td>...</td>\n",
       "      <td>...</td>\n",
       "      <td>...</td>\n",
       "    </tr>\n",
       "    <tr>\n",
       "      <th>105655</th>\n",
       "      <td>fffd4b6d215e5850</td>\n",
       "      <td>0</td>\n",
       "      <td>fffd4b6d215e5850</td>\n",
       "      <td>1</td>\n",
       "      <td>1</td>\n",
       "      <td>0</td>\n",
       "      <td>1</td>\n",
       "      <td>0</td>\n",
       "    </tr>\n",
       "    <tr>\n",
       "      <th>105656</th>\n",
       "      <td>fffe28b31f2a70d4</td>\n",
       "      <td>0</td>\n",
       "      <td>fffe28b31f2a70d4</td>\n",
       "      <td>1</td>\n",
       "      <td>0</td>\n",
       "      <td>0</td>\n",
       "      <td>0</td>\n",
       "      <td>0</td>\n",
       "    </tr>\n",
       "    <tr>\n",
       "      <th>105657</th>\n",
       "      <td>fffe519ee3cddd18</td>\n",
       "      <td>0</td>\n",
       "      <td>fffe519ee3cddd18</td>\n",
       "      <td>1</td>\n",
       "      <td>0</td>\n",
       "      <td>0</td>\n",
       "      <td>0</td>\n",
       "      <td>0</td>\n",
       "    </tr>\n",
       "    <tr>\n",
       "      <th>105658</th>\n",
       "      <td>fffe53b2f679f98c</td>\n",
       "      <td>0</td>\n",
       "      <td>fffe53b2f679f98c</td>\n",
       "      <td>1</td>\n",
       "      <td>0</td>\n",
       "      <td>0</td>\n",
       "      <td>0,0,0</td>\n",
       "      <td>0,0,0</td>\n",
       "    </tr>\n",
       "    <tr>\n",
       "      <th>105659</th>\n",
       "      <td>ffff1cb23ed29f2a</td>\n",
       "      <td>0</td>\n",
       "      <td>ffff1cb23ed29f2a</td>\n",
       "      <td>1</td>\n",
       "      <td>1</td>\n",
       "      <td>0</td>\n",
       "      <td>1</td>\n",
       "      <td>0</td>\n",
       "    </tr>\n",
       "  </tbody>\n",
       "</table>\n",
       "<p>105660 rows × 8 columns</p>\n",
       "</div>"
      ],
      "text/plain": [
       "              image_id_1  object_id_1        image_id_2  object_id_2  \\\n",
       "0       000002b66c9c498e            0  000002b66c9c498e            1   \n",
       "1       00003d63a4839019            0  00003d63a4839019            1   \n",
       "2       0000599864fd15b3            0  0000599864fd15b3            1   \n",
       "3       000060e3121c7305            0  000060e3121c7305            1   \n",
       "4       000096726fd6c6c8            0  000096726fd6c6c8            1   \n",
       "...                  ...          ...               ...          ...   \n",
       "105655  fffd4b6d215e5850            0  fffd4b6d215e5850            1   \n",
       "105656  fffe28b31f2a70d4            0  fffe28b31f2a70d4            1   \n",
       "105657  fffe519ee3cddd18            0  fffe519ee3cddd18            1   \n",
       "105658  fffe53b2f679f98c            0  fffe53b2f679f98c            1   \n",
       "105659  ffff1cb23ed29f2a            0  ffff1cb23ed29f2a            1   \n",
       "\n",
       "        distance  occlusion raw_distance raw_occlusion  \n",
       "0              3          0            3             0  \n",
       "1              3          3            3             3  \n",
       "2              1          0            1             0  \n",
       "3              0          0            0             0  \n",
       "4              2          2            2             2  \n",
       "...          ...        ...          ...           ...  \n",
       "105655         1          0            1             0  \n",
       "105656         0          0            0             0  \n",
       "105657         0          0            0             0  \n",
       "105658         0          0        0,0,0         0,0,0  \n",
       "105659         1          0            1             0  \n",
       "\n",
       "[105660 rows x 8 columns]"
      ]
     },
     "execution_count": 40,
     "metadata": {},
     "output_type": "execute_result"
    }
   ],
   "source": [
    "within_image_vrd_train"
   ]
  },
  {
   "cell_type": "code",
   "execution_count": 41,
   "id": "deff41fb-609c-41bc-9223-c2323b73e043",
   "metadata": {
    "pycharm": {
     "name": "#%%\n"
    }
   },
   "outputs": [
    {
     "data": {
      "text/plain": [
       "'0,0,0'"
      ]
     },
     "execution_count": 41,
     "metadata": {},
     "output_type": "execute_result"
    }
   ],
   "source": [
    "within_image_vrd_train.iloc[105658]['raw_distance']"
   ]
  },
  {
   "cell_type": "code",
   "execution_count": null,
   "id": "9324392e-02b4-4544-825a-f8483032a42a",
   "metadata": {
    "pycharm": {
     "name": "#%%\n"
    }
   },
   "outputs": [],
   "source": []
  },
  {
   "cell_type": "markdown",
   "id": "ebdc3a25-f232-423e-958d-9b04e50a2b30",
   "metadata": {
    "tags": [],
    "pycharm": {
     "name": "#%% md\n"
    }
   },
   "source": [
    "# Define Functions to Build Annotations and Write"
   ]
  },
  {
   "cell_type": "code",
   "execution_count": 42,
   "id": "e7dfca9d-c350-4915-99b5-351a589bfc35",
   "metadata": {
    "pycharm": {
     "name": "#%%\n"
    }
   },
   "outputs": [],
   "source": [
    "# dataset: 'train', 'valid', or 'test'\n",
    "def build_annotations(dataset):\n",
    "    \n",
    "    # Select vrd DataFrame and objects DataFrame\n",
    "    if dataset == 'train':\n",
    "        vrd_df = within_image_vrd_train\n",
    "        object_df = within_image_objects_train\n",
    "    elif dataset == 'valid':\n",
    "        vrd_df = within_image_vrd_validation\n",
    "        object_df = within_image_objects_validation\n",
    "        dataset = 'validation'\n",
    "    elif dataset == 'test':\n",
    "        vrd_df = within_image_vrd_test\n",
    "        object_df = within_image_objects_test\n",
    "        \n",
    "    \n",
    "    # Find out unique image ids\n",
    "    unique_image_ids = vrd_df['image_id_1'].unique()\n",
    "\n",
    "    all_distances = []\n",
    "    all_occlusions = []\n",
    "\n",
    "    skipped_images_ids = []\n",
    "    skipped_indices = []\n",
    "    num_skipped_images = 0\n",
    "\n",
    "    num_images = len(unique_image_ids)\n",
    "\n",
    "    start_time = time.time()\n",
    "    time_used = 0\n",
    "\n",
    "    for i in range(num_images):\n",
    "\n",
    "        # find file name\n",
    "        image_id = unique_image_ids[i]\n",
    "        original_image_id = image_id\n",
    "\n",
    "        # pad zeros to image_id\n",
    "        num_leading_zeros = 16 - len(image_id)\n",
    "\n",
    "        for j in range(num_leading_zeros):\n",
    "            image_id = '0' + image_id\n",
    "\n",
    "\n",
    "        file_name = image_id + '.jpg'\n",
    "        path = 'images/' + dataset + '/' + file_name\n",
    "\n",
    "        try:\n",
    "            image = Image.open(path)\n",
    "        except:\n",
    "            skipped_images_ids.append(original_image_id)\n",
    "            skipped_indices.append(i)\n",
    "            num_skipped_images += 1\n",
    "            continue\n",
    "\n",
    "        # find width and height\n",
    "        width = image.width\n",
    "        height = image.height\n",
    "\n",
    "        # find bounding boxes from object_df\n",
    "        df = object_df[object_df['image_id'] == image_id]\n",
    "\n",
    "        # Box_array in odgt annotaions should be in xywh format\n",
    "        box_array = [None] * df.shape[0]\n",
    "        tag_array = [None] * df.shape[0]\n",
    "\n",
    "        for j in range(df.shape[0]):\n",
    "            object_id = df.iloc[j]['object_id']\n",
    "            xmin = df.iloc[j]['xmin'] * width\n",
    "            ymin = df.iloc[j]['ymin'] * height\n",
    "            xmax = df.iloc[j]['xmax'] * width\n",
    "            ymax = df.iloc[j]['ymax'] * height\n",
    "\n",
    "            entity = df.iloc[j]['entity']\n",
    "            tag = entity_to_name(entity)\n",
    "\n",
    "            box_array[j] = [xmin, ymin, xmax - xmin, ymax - ymin]\n",
    "            tag_array[j] = tag\n",
    "\n",
    "        # Find occlusion and distance relationships from vrd_df\n",
    "        df = vrd_df[vrd_df['image_id_1'] == image_id]\n",
    "\n",
    "        pair_array = [None] * (df.shape[0])\n",
    "        distance_array = [None] * (df.shape[0])\n",
    "        occlusion_array = [None] * (df.shape[0])\n",
    "\n",
    "        for j in range(df.shape[0]):\n",
    "            object_id_1 = df.iloc[j]['object_id_1']\n",
    "            object_id_2 = df.iloc[j]['object_id_2']\n",
    "            distance = df.iloc[j]['distance']\n",
    "            occlusion = df.iloc[j]['occlusion']\n",
    "            \n",
    "            # TODO\n",
    "\n",
    "            pair_array[j] = [object_id_1, object_id_2]\n",
    "            distance_array[j] = distance\n",
    "            occlusion_array[j] = occlusion\n",
    "            raw_distance_array[j] = raw_distance\n",
    "            raw_occlusion_array[j] = raw_occlusion\n",
    "            \n",
    "\n",
    "        # Build distance and occlusion\n",
    "        distance = []\n",
    "        occlusion = []\n",
    "        gtboxes = []\n",
    "\n",
    "        # Boxes \n",
    "        for j in range(len(box_array)):\n",
    "            gtboxes.append(dict(box=box_array[j], tag=tag_array[j]))\n",
    "\n",
    "        # Distances and Occlusions\n",
    "        for j in range(len(pair_array)):        \n",
    "            subject_id = pair_array[j][0]\n",
    "            object_id = pair_array[j][1]\n",
    "\n",
    "            # distance\n",
    "            category_id = distance_array[j]\n",
    "            interaction = distance_id_to_name[category_id]\n",
    "\n",
    "            dist_pp = dict(subject_id=str(subject_id),\n",
    "                           object_id=str(object_id),\n",
    "                           category_id=str(category_id), \n",
    "                           interaction=interaction\n",
    "                           )\n",
    "            distance.append(dist_pp)\n",
    "\n",
    "\n",
    "\n",
    "            # occlusion\n",
    "            category_id = occlusion_array[j]\n",
    "            interaction = occlusion_id_to_name[category_id]\n",
    "\n",
    "            occl_pp = dict(subject_id=str(subject_id),\n",
    "                           object_id=str(object_id),\n",
    "                           category_id=str(category_id), \n",
    "                           interaction=interaction\n",
    "                           )\n",
    "            occlusion.append(occl_pp)\n",
    "\n",
    "\n",
    "\n",
    "        all_distances.append(dict(file_name=file_name, width=width, height=height, gtboxes=gtboxes, hoi=distance, ID=''))\n",
    "        all_occlusions.append(dict(file_name=file_name, width=width, height=height, gtboxes=gtboxes, hoi=occlusion, ID=''))\n",
    "\n",
    "\n",
    "        if (i + 1) % 10 == 0 or i + 1== num_images:\n",
    "            fixed_status_string = 'Generating Annotations'\n",
    "            dynamic_status_string = str(i + 1) + '/' + str(num_images)\n",
    "\n",
    "            time_used = time.time() - start_time\n",
    "            speed = (i + 1) / time_used\n",
    "            time_remaining = (num_images - (i + 1)) / speed\n",
    "            remaining_hours = time_remaining / 3600\n",
    "            remaining_minutes = (time_remaining % 3600) / 60\n",
    "            remaining_seconds = time_remaining % 60\n",
    "            time_string = str(int(remaining_hours)) + ' h ' + str(int(remaining_minutes)) +' min ' + str(int(remaining_seconds)) + ' s'\n",
    "\n",
    "\n",
    "            progressBar(i + 1, num_images, '  ' + fixed_status_string + '  ' + dynamic_status_string + '  ' + '|  Skipped Images: ' + str(num_skipped_images) + '  |  ' + 'Time Remining: ' + time_string)\n",
    "            \n",
    "    return all_distances, all_occlusions, skipped_images_ids, skipped_indices, num_skipped_images"
   ]
  },
  {
   "cell_type": "code",
   "execution_count": null,
   "id": "89c78427-b0c0-47e3-8b90-501de113c409",
   "metadata": {
    "pycharm": {
     "name": "#%%\n"
    }
   },
   "outputs": [],
   "source": []
  },
  {
   "cell_type": "code",
   "execution_count": null,
   "id": "ad0ab8a3-2427-4145-834a-374be2111eb3",
   "metadata": {
    "pycharm": {
     "name": "#%%\n"
    }
   },
   "outputs": [],
   "source": []
  },
  {
   "cell_type": "code",
   "execution_count": null,
   "id": "255d1502-ac07-4f64-9f4e-dc49f9d5ce55",
   "metadata": {
    "pycharm": {
     "name": "#%%\n"
    }
   },
   "outputs": [],
   "source": []
  },
  {
   "cell_type": "code",
   "execution_count": null,
   "id": "b4b9b86f-fc24-4fe9-a9df-b6bd639d69b5",
   "metadata": {
    "pycharm": {
     "name": "#%%\n"
    }
   },
   "outputs": [],
   "source": []
  },
  {
   "cell_type": "code",
   "execution_count": null,
   "id": "c6e8eca7-9a41-4515-bbf3-60bbd7973661",
   "metadata": {
    "pycharm": {
     "name": "#%%\n"
    }
   },
   "outputs": [],
   "source": []
  },
  {
   "cell_type": "code",
   "execution_count": null,
   "id": "862f554e-4a8d-4cac-81a9-dee34df455b7",
   "metadata": {
    "pycharm": {
     "name": "#%%\n"
    }
   },
   "outputs": [],
   "source": []
  },
  {
   "cell_type": "code",
   "execution_count": null,
   "id": "fea682aa-901c-4e05-94b6-ede43f852c8c",
   "metadata": {
    "pycharm": {
     "name": "#%%\n"
    }
   },
   "outputs": [],
   "source": []
  },
  {
   "cell_type": "code",
   "execution_count": 43,
   "id": "b972b8bb-a654-4f8e-991e-ee229c25d871",
   "metadata": {
    "pycharm": {
     "name": "#%%\n"
    }
   },
   "outputs": [],
   "source": [
    "# file_name: file name of distance annotation file\n",
    "def write_distances(file_name, all_distances):\n",
    "    \n",
    "    os.system('rm -f %s' % file_name)\n",
    "\n",
    "    with open(file_name, 'a') as writer:\n",
    "    \n",
    "        for i in range(len(all_distances)):\n",
    "            item = all_distances[i]\n",
    "            writer.write(json.dumps(item) + \"\\n\")\n",
    "            if i % 100 == 0 or i == len(all_distances) - 1:\n",
    "                progressBar(i + 1, len(all_distances), 'Writing Annotations to File:    ' + file_name)"
   ]
  },
  {
   "cell_type": "code",
   "execution_count": 44,
   "id": "88c958ff-fb11-44d6-a6f9-783d3084f169",
   "metadata": {
    "pycharm": {
     "name": "#%%\n"
    }
   },
   "outputs": [],
   "source": [
    "# file_name: file name of occlusion annotation file\n",
    "def write_occlusions(file_name, all_occlusions):\n",
    "    \n",
    "    os.system('rm -f %s' % file_name)\n",
    "\n",
    "    with open(file_name, 'a') as writer:\n",
    "        for i in range(len(all_occlusions)):\n",
    "            item = all_occlusions[i]\n",
    "            writer.write(json.dumps(item) + \"\\n\")\n",
    "            if i % 100 == 0 or i == len(all_occlusions) - 1:\n",
    "                progressBar(i + 1, len(all_occlusions), 'Writing Annotations to File:    ' + file_name)"
   ]
  },
  {
   "cell_type": "code",
   "execution_count": 45,
   "id": "4fdde40e-9333-4dc5-b2a3-6aaccc03bd03",
   "metadata": {
    "pycharm": {
     "name": "#%%\n"
    }
   },
   "outputs": [],
   "source": [
    "# dataset: 'train', 'valid', or 'test'\n",
    "def build_and_write_annotations(dataset):\n",
    "    all_distances, all_occlusions, skipped_images_ids, skipped_indices, num_skipped_images = build_annotations(dataset)\n",
    "    \n",
    "    file_name_diatances = 'annotation_' + dataset + '_distances' + '.odgt'\n",
    "    file_name_occlusions = 'annotation_' + dataset + '_occlusions' + '.odgt'\n",
    "    \n",
    "    print()\n",
    "    write_distances(file_name_diatances, all_distances)\n",
    "    \n",
    "    print()\n",
    "    write_occlusions(file_name_occlusions, all_occlusions)"
   ]
  },
  {
   "cell_type": "markdown",
   "id": "7d14c007-cace-42a4-9142-861116707232",
   "metadata": {
    "pycharm": {
     "name": "#%% md\n"
    }
   },
   "source": [
    "# Build and Write Annotations"
   ]
  },
  {
   "cell_type": "markdown",
   "id": "8b3d7697-888d-431c-8cbc-d5e0a0c5e51c",
   "metadata": {
    "pycharm": {
     "name": "#%% md\n"
    }
   },
   "source": [
    "## Training Set"
   ]
  },
  {
   "cell_type": "code",
   "execution_count": 46,
   "id": "445b0d3a-e5a4-41bf-8ffd-2cec36d8bd27",
   "metadata": {
    "pycharm": {
     "name": "#%%\n"
    }
   },
   "outputs": [],
   "source": [
    "#build_and_write_annotations('train')"
   ]
  },
  {
   "cell_type": "markdown",
   "id": "e00e43ac-52c2-4a6e-92de-1a25f7f45150",
   "metadata": {
    "pycharm": {
     "name": "#%% md\n"
    }
   },
   "source": [
    "## Validation Set"
   ]
  },
  {
   "cell_type": "code",
   "execution_count": 47,
   "id": "3922d981-e3da-4649-8461-c50cc732d1ad",
   "metadata": {
    "pycharm": {
     "name": "#%%\n"
    }
   },
   "outputs": [],
   "source": [
    "#build_and_write_annotations('valid')"
   ]
  },
  {
   "cell_type": "markdown",
   "id": "2db2b95c-676a-4c8d-8a5e-f64bb5b494b6",
   "metadata": {
    "pycharm": {
     "name": "#%% md\n"
    }
   },
   "source": [
    "## Test Set"
   ]
  },
  {
   "cell_type": "code",
   "execution_count": 48,
   "id": "f6865b10-b288-47ac-a1ce-7771e5fce685",
   "metadata": {
    "pycharm": {
     "name": "#%%\n"
    }
   },
   "outputs": [],
   "source": [
    "#build_and_write_annotations('test')"
   ]
  },
  {
   "cell_type": "markdown",
   "id": "349d1791-047d-4af9-80e2-b1e9a71d45a4",
   "metadata": {
    "pycharm": {
     "name": "#%% md\n"
    }
   },
   "source": [
    "# Check Resulting Annotations Files"
   ]
  },
  {
   "cell_type": "code",
   "execution_count": 49,
   "id": "f13fd264-c322-4e07-a3fd-e07c7b6c75b5",
   "metadata": {
    "pycharm": {
     "name": "#%%\n"
    }
   },
   "outputs": [],
   "source": [
    "#!wc -l annotation_train_distances.odgt"
   ]
  },
  {
   "cell_type": "code",
   "execution_count": 50,
   "id": "ed5d792b-d6a6-432b-b3e8-ccf3d13296ee",
   "metadata": {
    "pycharm": {
     "name": "#%%\n"
    }
   },
   "outputs": [],
   "source": [
    "#!wc -l annotation_train_occlusions.odgt"
   ]
  },
  {
   "cell_type": "code",
   "execution_count": 51,
   "id": "0a184429-52ae-49d9-b9d8-d5f89b0fa990",
   "metadata": {
    "pycharm": {
     "name": "#%%\n"
    }
   },
   "outputs": [],
   "source": [
    "#!wc - l annotation_valid_distances.odgt"
   ]
  },
  {
   "cell_type": "code",
   "execution_count": 52,
   "id": "40131966-d179-4ee0-af88-12e27c21684f",
   "metadata": {
    "pycharm": {
     "name": "#%%\n"
    }
   },
   "outputs": [],
   "source": [
    "#!wc -l annotation_valid_occlusions.odgt"
   ]
  },
  {
   "cell_type": "code",
   "execution_count": 53,
   "id": "44cd421b-fe19-4037-8455-e6fbbdef4184",
   "metadata": {
    "pycharm": {
     "name": "#%%\n"
    }
   },
   "outputs": [],
   "source": [
    "#!wc -l annotation_test_distances.odgt"
   ]
  },
  {
   "cell_type": "code",
   "execution_count": 54,
   "id": "2ec9f2dd-6941-4c6d-aff0-712560a60711",
   "metadata": {
    "pycharm": {
     "name": "#%%\n"
    }
   },
   "outputs": [],
   "source": [
    "#!wc -l annotation_test_occlusions.odgt"
   ]
  },
  {
   "cell_type": "code",
   "execution_count": null,
   "id": "c9375c08-2e3e-4f72-aca6-8c814dad7c5b",
   "metadata": {
    "pycharm": {
     "name": "#%%\n"
    }
   },
   "outputs": [],
   "source": []
  },
  {
   "cell_type": "code",
   "execution_count": null,
   "id": "42715c63-46a6-44b4-98ae-a88af3bcf4f8",
   "metadata": {
    "pycharm": {
     "name": "#%%\n"
    }
   },
   "outputs": [],
   "source": []
  },
  {
   "cell_type": "code",
   "execution_count": null,
   "id": "91b75d3b-50ed-4f40-a162-d47646ba1745",
   "metadata": {
    "pycharm": {
     "name": "#%%\n"
    }
   },
   "outputs": [],
   "source": []
  },
  {
   "cell_type": "code",
   "execution_count": null,
   "id": "5a4e3663-b44d-4f3a-a4b4-d37c8296e948",
   "metadata": {
    "pycharm": {
     "name": "#%%\n"
    }
   },
   "outputs": [],
   "source": []
  },
  {
   "cell_type": "code",
   "execution_count": null,
   "id": "c511fe09-9b2b-416b-95a3-9306a865ee9b",
   "metadata": {
    "pycharm": {
     "name": "#%%\n"
    }
   },
   "outputs": [],
   "source": []
  },
  {
   "cell_type": "code",
   "execution_count": null,
   "id": "f742e3df-253d-4374-96ca-fb3f221f0a91",
   "metadata": {
    "pycharm": {
     "name": "#%%\n"
    }
   },
   "outputs": [],
   "source": []
  },
  {
   "cell_type": "code",
   "execution_count": null,
   "id": "40d7bdbe-e86e-4d43-9513-ea20b253f7f3",
   "metadata": {
    "pycharm": {
     "name": "#%%\n"
    }
   },
   "outputs": [],
   "source": []
  },
  {
   "cell_type": "code",
   "execution_count": null,
   "id": "f574bbfa-7a30-45d4-b66e-d71ee08eaee0",
   "metadata": {
    "pycharm": {
     "name": "#%%\n"
    }
   },
   "outputs": [],
   "source": []
  },
  {
   "cell_type": "code",
   "execution_count": null,
   "id": "d3a3229f-6ff5-437c-b9c3-806eb5ceccfe",
   "metadata": {
    "pycharm": {
     "name": "#%%\n"
    }
   },
   "outputs": [],
   "source": []
  },
  {
   "cell_type": "code",
   "execution_count": 55,
   "id": "8579aef8-84ee-4e0c-acb8-ec583baaca23",
   "metadata": {
    "pycharm": {
     "name": "#%%\n"
    }
   },
   "outputs": [],
   "source": [
    "def flip_distance(original_distance):\n",
    "    if original_distance in [-1, 0, 3]:\n",
    "        return original_distance\n",
    "    elif original_distance in [1]:\n",
    "        return 2\n",
    "    elif original_distance in [2]:\n",
    "        return 1\n",
    "    else: \n",
    "        return -99"
   ]
  },
  {
   "cell_type": "code",
   "execution_count": 56,
   "id": "6d5d7750-27b0-448b-9d83-02a44b3994be",
   "metadata": {
    "pycharm": {
     "name": "#%%\n"
    }
   },
   "outputs": [],
   "source": [
    "def flip_occlusion(original_occlusion):\n",
    "    if original_occlusion in [-1, 0, 3]:\n",
    "        return original_occlusion\n",
    "    elif original_occlusion in [1]:\n",
    "        return 2\n",
    "    elif original_occlusion in [2]:\n",
    "        return 1\n",
    "    else:\n",
    "        return -99"
   ]
  },
  {
   "cell_type": "code",
   "execution_count": null,
   "id": "f5a1d9d3-c893-4b5d-874d-d3b1722639ff",
   "metadata": {
    "pycharm": {
     "name": "#%%\n"
    }
   },
   "outputs": [],
   "source": []
  },
  {
   "cell_type": "code",
   "execution_count": null,
   "id": "39405351-47c2-44be-a3af-45577585d736",
   "metadata": {
    "pycharm": {
     "name": "#%%\n"
    }
   },
   "outputs": [],
   "source": []
  },
  {
   "cell_type": "code",
   "execution_count": null,
   "id": "e411b47c-797b-4756-a5f4-3bee25726f1d",
   "metadata": {
    "pycharm": {
     "name": "#%%\n"
    }
   },
   "outputs": [],
   "source": []
  },
  {
   "cell_type": "code",
   "execution_count": 67,
   "id": "cd54c30e-ff00-4863-90c5-05f5301350e5",
   "metadata": {
    "pycharm": {
     "name": "#%%\n"
    }
   },
   "outputs": [],
   "source": [
    "# dataset: 'train', 'valid', or 'test'\n",
    "def build_combined_annotations(dataset):\n",
    "    \n",
    "    # Select vrd DataFrame and objects DataFrame\n",
    "    if dataset == 'train':\n",
    "        vrd_df = within_image_vrd_train\n",
    "        object_df = within_image_objects_train\n",
    "    elif dataset == 'valid':\n",
    "        vrd_df = within_image_vrd_validation\n",
    "        object_df = within_image_objects_validation\n",
    "        dataset = 'validation'\n",
    "    elif dataset == 'test':\n",
    "        vrd_df = within_image_vrd_test\n",
    "        object_df = within_image_objects_test\n",
    "        \n",
    "    \n",
    "    # Find out unique image ids\n",
    "    unique_image_ids = vrd_df['image_id_1'].unique()\n",
    "\n",
    "    all_distances = []\n",
    "    all_occlusions = []\n",
    "    \n",
    "    all_combined = []\n",
    "\n",
    "    skipped_images_ids = []\n",
    "    skipped_indices = []\n",
    "    num_skipped_images = 0\n",
    "\n",
    "    num_images = len(unique_image_ids)\n",
    "\n",
    "    start_time = time.time()\n",
    "    time_used = 0\n",
    "\n",
    "    for i in range(num_images):\n",
    "\n",
    "        # find file name\n",
    "        image_id = unique_image_ids[i]\n",
    "        original_image_id = image_id\n",
    "\n",
    "        # pad zeros to image_id\n",
    "        num_leading_zeros = 16 - len(image_id)\n",
    "\n",
    "        for j in range(num_leading_zeros):\n",
    "            image_id = '0' + image_id\n",
    "\n",
    "\n",
    "        file_name = image_id + '.jpg'\n",
    "        path = 'images/' + dataset + '/' + file_name\n",
    "\n",
    "        try:\n",
    "            image = Image.open(path)\n",
    "        except:\n",
    "            skipped_images_ids.append(original_image_id)\n",
    "            skipped_indices.append(i)\n",
    "            num_skipped_images += 1\n",
    "            continue\n",
    "\n",
    "        # find width and height\n",
    "        width = image.width\n",
    "        height = image.height\n",
    "\n",
    "        # find bounding boxes from object_df\n",
    "        df = object_df[object_df['image_id'] == image_id]\n",
    "\n",
    "        # Box_array in odgt annotaions should be in xywh format\n",
    "        box_array = [None] * df.shape[0]\n",
    "        tag_array = [None] * df.shape[0]\n",
    "\n",
    "        for j in range(df.shape[0]):\n",
    "            object_id = df.iloc[j]['object_id']\n",
    "            xmin = df.iloc[j]['xmin'] * width\n",
    "            ymin = df.iloc[j]['ymin'] * height\n",
    "            xmax = df.iloc[j]['xmax'] * width\n",
    "            ymax = df.iloc[j]['ymax'] * height\n",
    "\n",
    "            entity = df.iloc[j]['entity']\n",
    "            tag = entity_to_name(entity)\n",
    "\n",
    "            box_array[j] = [xmin, ymin, xmax - xmin, ymax - ymin]\n",
    "            tag_array[j] = tag\n",
    "\n",
    "        # Find occlusion and distance relationships from vrd_df\n",
    "        df = vrd_df[vrd_df['image_id_1'] == image_id]\n",
    "\n",
    "        pair_array = [None] * (df.shape[0])\n",
    "        distance_array = [None] * (df.shape[0])\n",
    "        occlusion_array = [None] * (df.shape[0])\n",
    "        raw_distance_array = [None] * (df.shape[0])\n",
    "        raw_occlusion_array = [None] * (df.shape[0])\n",
    "\n",
    "        for j in range(df.shape[0]):\n",
    "            object_id_1 = df.iloc[j]['object_id_1']\n",
    "            object_id_2 = df.iloc[j]['object_id_2']\n",
    "            distance = df.iloc[j]['distance']\n",
    "            occlusion = df.iloc[j]['occlusion']\n",
    "            raw_distance = df.iloc[j]['raw_distance']\n",
    "            raw_occlusion = df.iloc[j]['raw_occlusion']\n",
    "\n",
    "            pair_array[j] = [object_id_1, object_id_2]\n",
    "            distance_array[j] = distance\n",
    "            occlusion_array[j] = occlusion\n",
    "            raw_distance_array[j] = raw_distance\n",
    "            raw_occlusion_array[j] = raw_occlusion\n",
    "\n",
    "        # Build distance and occlusion\n",
    "        distance = []\n",
    "        occlusion = []\n",
    "        gtboxes = []\n",
    "        combined = []\n",
    "\n",
    "        # Boxes \n",
    "        for j in range(len(box_array)):\n",
    "            gtboxes.append(dict(box=box_array[j], tag=tag_array[j]))\n",
    "\n",
    "        # Distances and Occlusions\n",
    "        for j in range(len(pair_array)):        \n",
    "            subject_id = pair_array[j][0]\n",
    "            object_id = pair_array[j][1]\n",
    "\n",
    "            # distance\n",
    "            distance_id = distance_array[j]\n",
    "            distance = distance_id_to_name[distance_id]\n",
    "\n",
    "            # occlusion\n",
    "            occlusion_id = occlusion_array[j]\n",
    "            occlusion = occlusion_id_to_name[occlusion_id]\n",
    "            \n",
    "            # raw distance\n",
    "            raw_distance = raw_distance_array[j]\n",
    "            \n",
    "            # raw occlusion\n",
    "            raw_occlusion = raw_occlusion_array[j]\n",
    "            \n",
    "            \n",
    "            combined_pp = dict(subject_id=str(subject_id),\n",
    "                           object_id=str(object_id),\n",
    "                           distance_id=str(distance_id), \n",
    "                           distance=distance, \n",
    "                           occlusion_id=str(occlusion_id),\n",
    "                           occlusion=occlusion, \n",
    "                           raw_distance=str(raw_distance), \n",
    "                           raw_occlusion=str(raw_occlusion))\n",
    "            \n",
    "            combined.append(combined_pp)\n",
    "            \n",
    "            \n",
    "            # Add a flipped pp\n",
    "            flipped_subject_id = object_id\n",
    "            flipped_object_id = subject_id\n",
    "            flipped_distance_id = flip_distance(distance_id)\n",
    "            flipped_distance = distance_id_to_name[flipped_distance_id]\n",
    "            flipped_occlusion_id = flip_occlusion(occlusion_id)\n",
    "            flipped_occlusion = occlusion_id_to_name[flipped_occlusion_id]\n",
    "            \n",
    "            # TODO: flip raw distance and raw occlusion\n",
    "            flipped_raw_distance = ''\n",
    "            flipped_raw_occlusion = ''\n",
    "            \n",
    "            num_raw_distance = int(len(raw_distance) / 2) + 1\n",
    "            num_raw_occlusion = int(len(raw_occlusion) / 2) + 1\n",
    "             \n",
    "            for k in range(num_raw_distance):\n",
    "                current_raw_distance = int(raw_distance[k*2: k*2+1])\n",
    "                current_flipped_raw_distance = flip_distance(current_raw_distance)\n",
    "                flipped_raw_distance += str(current_flipped_raw_distance)\n",
    "                if k < num_raw_distance - 1:\n",
    "                    flipped_raw_distance += ','\n",
    "            \n",
    "            for k in range(num_raw_occlusion):\n",
    "                current_raw_occlusion = int(raw_occlusion[k*2: k*2+1])\n",
    "                current_flipped_raw_occlusion = flip_occlusion(current_raw_occlusion)\n",
    "                flipped_raw_occlusion += str(current_flipped_raw_occlusion)\n",
    "                if k < num_raw_distance - 1:\n",
    "                    flipped_raw_occlusion += ','\n",
    "            \n",
    "            \n",
    "            flipped_pp = dict(subject_id=str(flipped_subject_id),\n",
    "                           object_id=str(flipped_object_id),\n",
    "                           distance_id=str(flipped_distance_id), \n",
    "                           distance=flipped_distance, \n",
    "                           occlusion_id=str(flipped_occlusion_id),\n",
    "                           occlusion=flipped_occlusion, \n",
    "                           raw_distance=flipped_raw_distance, \n",
    "                           raw_occlusion=flipped_raw_occlusion)\n",
    "            combined.append(flipped_pp)\n",
    "            \n",
    "            \n",
    "        all_combined.append(dict(file_name=file_name, width=width, height=height, gtboxes=gtboxes, hoi=combined, ID=''))\n",
    "        \n",
    "        \n",
    "        if (i + 1) % 10 == 0 or i + 1== num_images:\n",
    "            fixed_status_string = 'Generating Annotations'\n",
    "            dynamic_status_string = str(i + 1) + '/' + str(num_images)\n",
    "\n",
    "            time_used = time.time() - start_time\n",
    "            speed = (i + 1) / time_used\n",
    "            time_remaining = (num_images - (i + 1)) / speed\n",
    "            remaining_hours = time_remaining / 3600\n",
    "            remaining_minutes = (time_remaining % 3600) / 60\n",
    "            remaining_seconds = time_remaining % 60\n",
    "            time_string = str(int(remaining_hours)) + ' h ' + str(int(remaining_minutes)) +' min ' + str(int(remaining_seconds)) + ' s'\n",
    "\n",
    "            progressBar(i + 1, num_images, '  ' + fixed_status_string + '  ' + dynamic_status_string + '  ' + '|  Skipped Images: ' + str(num_skipped_images) + '  |  ' + 'Time Remining: ' + time_string)\n",
    "            \n",
    "    return all_combined, skipped_images_ids, skipped_indices, num_skipped_images\n",
    "\n",
    "  \n",
    "\n",
    "def write_combined(file_name, all_combined):\n",
    "    os.system('rm -f %s' % file_name)\n",
    "\n",
    "    with open(file_name, 'a') as writer:\n",
    "    \n",
    "        for i in range(len(all_combined)):\n",
    "            item = all_combined[i]\n",
    "            writer.write(json.dumps(item) + \"\\n\")\n",
    "            if i % 100 == 0 or i == len(all_combined) - 1:\n",
    "                progressBar(i + 1, len(all_combined), 'Writing Annotations to File:    ' + file_name)\n",
    "\n",
    "def build_and_write_combined_annotations(dataset):\n",
    "    all_combined, skipped_images_ids, skipped_indices, num_skipped_images = build_combined_annotations(dataset)\n",
    "    \n",
    "    file_name_combined = 'annotation_' + dataset + '_combined' + '.odgt'\n",
    "    \n",
    "    print()\n",
    "    write_combined(file_name_combined, all_combined)"
   ]
  },
  {
   "cell_type": "code",
   "execution_count": 68,
   "id": "aff7ad08-5fa4-45b0-93cf-80309d4f4349",
   "metadata": {
    "pycharm": {
     "name": "#%%\n"
    }
   },
   "outputs": [
    {
     "name": "stdout",
     "output_type": "stream",
     "text": [
      "[============================================================] 100%    Generating Annotations  1196/1196  |  Skipped Images: 0  |  Time Remining: 0 h 0 min 0 s                                                                                                                                             \n",
      "[============================================================] 100%  Writing Annotations to File:    annotation_valid_combined.odgt                                                                                                                                                                         "
     ]
    }
   ],
   "source": [
    "build_and_write_combined_annotations('valid')"
   ]
  },
  {
   "cell_type": "code",
   "execution_count": 69,
   "id": "5053b8a0-22d1-4c6e-a89c-a54c647b5a2d",
   "metadata": {
    "pycharm": {
     "name": "#%%\n"
    }
   },
   "outputs": [
    {
     "name": "stdout",
     "output_type": "stream",
     "text": [
      "[============================================================] 100%    Generating Annotations  3987/3987  |  Skipped Images: 2  |  Time Remining: 0 h 0 min 0 s                                                                                                                                             \n",
      "[============================================================] 100%  Writing Annotations to File:    annotation_test_combined.odgt                                                                                                                                                                          "
     ]
    }
   ],
   "source": [
    "build_and_write_combined_annotations('test')"
   ]
  },
  {
   "cell_type": "code",
   "execution_count": 70,
   "id": "d1121c0e-b92d-48df-89d0-98843c149867",
   "metadata": {
    "pycharm": {
     "name": "#%%\n"
    }
   },
   "outputs": [
    {
     "name": "stdout",
     "output_type": "stream",
     "text": [
      "[============================================================] 100%    Generating Annotations  105660/105660  |  Skipped Images: 20  |  Time Remining: 0 h 0 min 0 s                                                                                                                                        \n",
      "[============================================================] 100%  Writing Annotations to File:    annotation_train_combined.odgt                                                                                                                                                                         "
     ]
    }
   ],
   "source": [
    "build_and_write_combined_annotations('train')"
   ]
  },
  {
   "cell_type": "code",
   "execution_count": null,
   "id": "15b8225a-767e-4b20-ae93-cac9e8ee562f",
   "metadata": {
    "pycharm": {
     "name": "#%%\n"
    }
   },
   "outputs": [],
   "source": []
  }
 ],
 "metadata": {
  "kernelspec": {
   "display_name": "Python 3 (ipykernel)",
   "language": "python",
   "name": "python3"
  },
  "language_info": {
   "codemirror_mode": {
    "name": "ipython",
    "version": 3
   },
   "file_extension": ".py",
   "mimetype": "text/x-python",
   "name": "python",
   "nbconvert_exporter": "python",
   "pygments_lexer": "ipython3",
   "version": "3.8.12"
  }
 },
 "nbformat": 4,
 "nbformat_minor": 5
}